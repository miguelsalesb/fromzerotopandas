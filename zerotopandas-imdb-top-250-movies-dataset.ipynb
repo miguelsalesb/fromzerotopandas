{
 "cells": [
  {
   "cell_type": "markdown",
   "metadata": {},
   "source": [
    "# IMDB Top 250 Movies\n",
    "\n",
    "### This project uses the Kaggle dataset that has IMDB's top 250 movies according to their user rating. \n",
    "\n",
    "It is part of the Data Analysis with Python: Zero to Pandas course of zerotopandas.com. Check it out, it is a great course! \n",
    "<a href=\"https://jovian.com/learn/data-analysis-with-python-zero-to-pandas\" target=\"_blank\">Data Analysis with Python: Zero to Pandas</a>"
   ]
  },
  {
   "cell_type": "markdown",
   "metadata": {},
   "source": [
    "### How to run the code\n",
    "\n",
    "This is an executable [*Jupyter notebook*](https://jupyter.org) hosted on [Jovian.ml](https://www.jovian.ml), a platform for sharing data science projects. You can run and experiment with the code in a couple of ways: *using free online resources* (recommended) or *on your own computer*.\n",
    "\n",
    "#### Option 1: Running using free online resources (1-click, recommended)\n",
    "\n",
    "The easiest way to start executing this notebook is to click the \"Run\" button at the top of this page, and select \"Run on Binder\". This will run the notebook on [mybinder.org](https://mybinder.org), a free online service for running Jupyter notebooks. You can also select \"Run on Colab\" or \"Run on Kaggle\".\n",
    "\n",
    "\n",
    "#### Option 2: Running on your computer locally\n",
    "\n",
    "1. Install Conda by [following these instructions](https://conda.io/projects/conda/en/latest/user-guide/install/index.html). Add Conda binaries to your system `PATH`, so you can use the `conda` command on your terminal.\n",
    "\n",
    "2. Create a Conda environment and install the required libraries by running these commands on the terminal:\n",
    "\n",
    "```\n",
    "conda create -n zerotopandas -y python=3.8 \n",
    "conda activate zerotopandas\n",
    "pip install jovian jupyter numpy pandas matplotlib seaborn opendatasets --upgrade\n",
    "```\n",
    "\n",
    "3. Press the \"Clone\" button above to copy the command for downloading the notebook, and run it on the terminal. This will create a new directory and download the notebook. The command will look something like this:\n",
    "\n",
    "```\n",
    "jovian clone notebook-owner/notebook-id\n",
    "```\n",
    "\n",
    "\n",
    "\n",
    "4. Enter the newly created directory using `cd directory-name` and start the Jupyter notebook.\n",
    "\n",
    "```\n",
    "jupyter notebook\n",
    "```\n",
    "\n",
    "You can now access Jupyter's web interface by clicking the link that shows up on the terminal or by visiting http://localhost:8888 on your browser. Click on the notebook file (it has a `.ipynb` extension) to open it.\n"
   ]
  },
  {
   "cell_type": "markdown",
   "metadata": {},
   "source": [
    "## Downloading the Dataset\n",
    "\n",
    "<ul>\n",
    "<li>Assigned the dataset URL to a variable</li>\n",
    "<li>Downloaded and extracted the folder containing the dataset csv file</li>\n",
    "<li>Listed the file within the folder</li>\n",
    "</ul>"
   ]
  },
  {
   "cell_type": "code",
   "execution_count": 152,
   "metadata": {},
   "outputs": [],
   "source": [
    "!pip install jovian opendatasets --upgrade --quiet"
   ]
  },
  {
   "cell_type": "markdown",
   "metadata": {},
   "source": [
    "Let's begin by downloading the data, and listing the files within the dataset."
   ]
  },
  {
   "cell_type": "code",
   "execution_count": 153,
   "metadata": {},
   "outputs": [],
   "source": [
    "# Change this\n",
    "dataset_url = 'https://www.kaggle.com/rajugc/imdb-top-250-movies-dataset' "
   ]
  },
  {
   "cell_type": "code",
   "execution_count": 154,
   "metadata": {},
   "outputs": [
    {
     "name": "stdout",
     "output_type": "stream",
     "text": [
      "Skipping, found downloaded files in \"./imdb-top-250-movies-dataset\" (use force=True to force download)\n"
     ]
    }
   ],
   "source": [
    "import opendatasets as od\n",
    "od.download(dataset_url)"
   ]
  },
  {
   "cell_type": "markdown",
   "metadata": {},
   "source": [
    "The dataset has been downloaded and extracted."
   ]
  },
  {
   "cell_type": "code",
   "execution_count": 155,
   "metadata": {},
   "outputs": [],
   "source": [
    "# Change this\n",
    "data_dir = './imdb-top-250-movies-dataset'"
   ]
  },
  {
   "cell_type": "code",
   "execution_count": 156,
   "metadata": {},
   "outputs": [
    {
     "data": {
      "text/plain": [
       "['IMDB Top 250 Movies.csv']"
      ]
     },
     "execution_count": 156,
     "metadata": {},
     "output_type": "execute_result"
    }
   ],
   "source": [
    "import os\n",
    "os.listdir(data_dir)"
   ]
  },
  {
   "cell_type": "markdown",
   "metadata": {},
   "source": [
    "Let us save and upload our work to Jovian before continuing."
   ]
  },
  {
   "cell_type": "code",
   "execution_count": 157,
   "metadata": {},
   "outputs": [],
   "source": [
    "project_name = \"zerotopandas-imdb-top-250-movies-dataset\" # change this (use lowercase letters and hyphens only)"
   ]
  },
  {
   "cell_type": "code",
   "execution_count": 158,
   "metadata": {},
   "outputs": [],
   "source": [
    "!pip install jovian --upgrade -q"
   ]
  },
  {
   "cell_type": "code",
   "execution_count": 159,
   "metadata": {},
   "outputs": [],
   "source": [
    "import jovian"
   ]
  },
  {
   "cell_type": "code",
   "execution_count": 160,
   "metadata": {},
   "outputs": [
    {
     "data": {
      "application/javascript": [
       "window.require && require([\"base/js/namespace\"],function(Jupyter){Jupyter.notebook.save_checkpoint()})"
      ],
      "text/plain": [
       "<IPython.core.display.Javascript object>"
      ]
     },
     "metadata": {},
     "output_type": "display_data"
    },
    {
     "name": "stdout",
     "output_type": "stream",
     "text": [
      "[jovian] Updating notebook \"miguel-sales-baptista/zerotopandas-imdb-top-250-movies-dataset\" on https://jovian.com\u001b[0m\n",
      "[jovian] Committed successfully! https://jovian.com/miguel-sales-baptista/zerotopandas-imdb-top-250-movies-dataset\u001b[0m\n"
     ]
    },
    {
     "data": {
      "text/plain": [
       "'https://jovian.com/miguel-sales-baptista/zerotopandas-imdb-top-250-movies-dataset'"
      ]
     },
     "execution_count": 160,
     "metadata": {},
     "output_type": "execute_result"
    }
   ],
   "source": [
    "jovian.commit(project=project_name)"
   ]
  },
  {
   "cell_type": "markdown",
   "metadata": {},
   "source": [
    "## Data Preparation and Cleaning\n",
    "\n",
    "<ul>\n",
    "    <li>Read the csv file and put it in a DataFrame</li>\n",
    "    <li>Checked if it had the right size, any inconsistencies or null values</li>\n",
    "</ul>\n",
    "\n"
   ]
  },
  {
   "cell_type": "code",
   "execution_count": 161,
   "metadata": {},
   "outputs": [
    {
     "data": {
      "text/plain": [
       "'/home/jovyan/work/7e27c56cc56947449c5fcbef2b3c5794_149'"
      ]
     },
     "execution_count": 161,
     "metadata": {},
     "output_type": "execute_result"
    }
   ],
   "source": [
    "os.getcwd()"
   ]
  },
  {
   "cell_type": "code",
   "execution_count": 162,
   "metadata": {},
   "outputs": [],
   "source": [
    "import pandas as pd"
   ]
  },
  {
   "cell_type": "code",
   "execution_count": 163,
   "metadata": {},
   "outputs": [
    {
     "data": {
      "text/html": [
       "<div>\n",
       "<style scoped>\n",
       "    .dataframe tbody tr th:only-of-type {\n",
       "        vertical-align: middle;\n",
       "    }\n",
       "\n",
       "    .dataframe tbody tr th {\n",
       "        vertical-align: top;\n",
       "    }\n",
       "\n",
       "    .dataframe thead th {\n",
       "        text-align: right;\n",
       "    }\n",
       "</style>\n",
       "<table border=\"1\" class=\"dataframe\">\n",
       "  <thead>\n",
       "    <tr style=\"text-align: right;\">\n",
       "      <th></th>\n",
       "      <th>rank</th>\n",
       "      <th>name</th>\n",
       "      <th>year</th>\n",
       "      <th>rating</th>\n",
       "      <th>genre</th>\n",
       "      <th>certificate</th>\n",
       "      <th>run_time</th>\n",
       "      <th>tagline</th>\n",
       "      <th>budget</th>\n",
       "      <th>box_office</th>\n",
       "      <th>casts</th>\n",
       "      <th>directors</th>\n",
       "      <th>writers</th>\n",
       "    </tr>\n",
       "  </thead>\n",
       "  <tbody>\n",
       "    <tr>\n",
       "      <th>0</th>\n",
       "      <td>1</td>\n",
       "      <td>The Shawshank Redemption</td>\n",
       "      <td>1994</td>\n",
       "      <td>9.3</td>\n",
       "      <td>Drama</td>\n",
       "      <td>R</td>\n",
       "      <td>2h 22m</td>\n",
       "      <td>Fear can hold you prisoner. Hope can set you f...</td>\n",
       "      <td>25000000</td>\n",
       "      <td>28884504</td>\n",
       "      <td>Tim Robbins,Morgan Freeman,Bob Gunton,William ...</td>\n",
       "      <td>Frank Darabont</td>\n",
       "      <td>Stephen King,Frank Darabont</td>\n",
       "    </tr>\n",
       "    <tr>\n",
       "      <th>1</th>\n",
       "      <td>2</td>\n",
       "      <td>The Godfather</td>\n",
       "      <td>1972</td>\n",
       "      <td>9.2</td>\n",
       "      <td>Crime,Drama</td>\n",
       "      <td>R</td>\n",
       "      <td>2h 55m</td>\n",
       "      <td>An offer you can't refuse.</td>\n",
       "      <td>6000000</td>\n",
       "      <td>250341816</td>\n",
       "      <td>Marlon Brando,Al Pacino,James Caan,Diane Keato...</td>\n",
       "      <td>Francis Ford Coppola</td>\n",
       "      <td>Mario Puzo,Francis Ford Coppola</td>\n",
       "    </tr>\n",
       "    <tr>\n",
       "      <th>2</th>\n",
       "      <td>3</td>\n",
       "      <td>The Dark Knight</td>\n",
       "      <td>2008</td>\n",
       "      <td>9.0</td>\n",
       "      <td>Action,Crime,Drama</td>\n",
       "      <td>PG-13</td>\n",
       "      <td>2h 32m</td>\n",
       "      <td>Why So Serious?</td>\n",
       "      <td>185000000</td>\n",
       "      <td>1006234167</td>\n",
       "      <td>Christian Bale,Heath Ledger,Aaron Eckhart,Mich...</td>\n",
       "      <td>Christopher Nolan</td>\n",
       "      <td>Jonathan Nolan,Christopher Nolan,David S. Goyer</td>\n",
       "    </tr>\n",
       "    <tr>\n",
       "      <th>3</th>\n",
       "      <td>4</td>\n",
       "      <td>The Godfather Part II</td>\n",
       "      <td>1974</td>\n",
       "      <td>9.0</td>\n",
       "      <td>Crime,Drama</td>\n",
       "      <td>R</td>\n",
       "      <td>3h 22m</td>\n",
       "      <td>All the power on earth can't change destiny.</td>\n",
       "      <td>13000000</td>\n",
       "      <td>47961919</td>\n",
       "      <td>Al Pacino,Robert De Niro,Robert Duvall,Diane K...</td>\n",
       "      <td>Francis Ford Coppola</td>\n",
       "      <td>Francis Ford Coppola,Mario Puzo</td>\n",
       "    </tr>\n",
       "    <tr>\n",
       "      <th>4</th>\n",
       "      <td>5</td>\n",
       "      <td>12 Angry Men</td>\n",
       "      <td>1957</td>\n",
       "      <td>9.0</td>\n",
       "      <td>Crime,Drama</td>\n",
       "      <td>Approved</td>\n",
       "      <td>1h 36m</td>\n",
       "      <td>Life Is In Their Hands -- Death Is On Their Mi...</td>\n",
       "      <td>350000</td>\n",
       "      <td>955</td>\n",
       "      <td>Henry Fonda,Lee J. Cobb,Martin Balsam,John Fie...</td>\n",
       "      <td>Sidney Lumet</td>\n",
       "      <td>Reginald Rose</td>\n",
       "    </tr>\n",
       "    <tr>\n",
       "      <th>...</th>\n",
       "      <td>...</td>\n",
       "      <td>...</td>\n",
       "      <td>...</td>\n",
       "      <td>...</td>\n",
       "      <td>...</td>\n",
       "      <td>...</td>\n",
       "      <td>...</td>\n",
       "      <td>...</td>\n",
       "      <td>...</td>\n",
       "      <td>...</td>\n",
       "      <td>...</td>\n",
       "      <td>...</td>\n",
       "      <td>...</td>\n",
       "    </tr>\n",
       "    <tr>\n",
       "      <th>245</th>\n",
       "      <td>246</td>\n",
       "      <td>The Help</td>\n",
       "      <td>2011</td>\n",
       "      <td>8.1</td>\n",
       "      <td>Drama</td>\n",
       "      <td>PG-13</td>\n",
       "      <td>2h 26m</td>\n",
       "      <td>Change begins with a whisper.</td>\n",
       "      <td>25000000</td>\n",
       "      <td>216639112</td>\n",
       "      <td>Viola Davis,Emma Stone,Octavia Spencer,Bryce D...</td>\n",
       "      <td>Tate Taylor</td>\n",
       "      <td>Tate Taylor,Kathryn Stockett</td>\n",
       "    </tr>\n",
       "    <tr>\n",
       "      <th>246</th>\n",
       "      <td>247</td>\n",
       "      <td>Dersu Uzala</td>\n",
       "      <td>1975</td>\n",
       "      <td>8.2</td>\n",
       "      <td>Adventure,Biography,Drama</td>\n",
       "      <td>G</td>\n",
       "      <td>2h 22m</td>\n",
       "      <td>There is man and beast at nature's mercy. Ther...</td>\n",
       "      <td>4000000</td>\n",
       "      <td>14480</td>\n",
       "      <td>Maksim Munzuk,Yuriy Solomin,Mikhail Bychkov,Vl...</td>\n",
       "      <td>Akira Kurosawa</td>\n",
       "      <td>Akira Kurosawa,Yuriy Nagibin,Vladimir Arsenev</td>\n",
       "    </tr>\n",
       "    <tr>\n",
       "      <th>247</th>\n",
       "      <td>248</td>\n",
       "      <td>Aladdin</td>\n",
       "      <td>1992</td>\n",
       "      <td>8.0</td>\n",
       "      <td>Animation,Adventure,Comedy</td>\n",
       "      <td>G</td>\n",
       "      <td>1h 30m</td>\n",
       "      <td>Wish granted! (DVD re-release)</td>\n",
       "      <td>Not Available</td>\n",
       "      <td>Not Available</td>\n",
       "      <td>Scott Weinger,Robin Williams,Linda Larkin,Jona...</td>\n",
       "      <td>Ron Clements,John Musker</td>\n",
       "      <td>Ron Clements,John Musker,Ted Elliott</td>\n",
       "    </tr>\n",
       "    <tr>\n",
       "      <th>248</th>\n",
       "      <td>249</td>\n",
       "      <td>Gandhi</td>\n",
       "      <td>1982</td>\n",
       "      <td>8.0</td>\n",
       "      <td>Biography,Drama,History</td>\n",
       "      <td>PG</td>\n",
       "      <td>3h 11m</td>\n",
       "      <td>His Triumph Changed The World Forever.</td>\n",
       "      <td>22000000</td>\n",
       "      <td>52767889</td>\n",
       "      <td>Ben Kingsley,John Gielgud,Rohini Hattangadi,Ro...</td>\n",
       "      <td>Richard Attenborough</td>\n",
       "      <td>John Briley</td>\n",
       "    </tr>\n",
       "    <tr>\n",
       "      <th>249</th>\n",
       "      <td>250</td>\n",
       "      <td>Dances with Wolves</td>\n",
       "      <td>1990</td>\n",
       "      <td>8.0</td>\n",
       "      <td>Adventure,Drama,Western</td>\n",
       "      <td>PG-13</td>\n",
       "      <td>3h 1m</td>\n",
       "      <td>Inside everyone is a frontier waiting to be di...</td>\n",
       "      <td>22000000</td>\n",
       "      <td>424208848</td>\n",
       "      <td>Kevin Costner,Mary McDonnell,Graham Greene,Rod...</td>\n",
       "      <td>Kevin Costner</td>\n",
       "      <td>Michael Blake</td>\n",
       "    </tr>\n",
       "  </tbody>\n",
       "</table>\n",
       "<p>250 rows × 13 columns</p>\n",
       "</div>"
      ],
      "text/plain": [
       "     rank                      name  year  rating                       genre  \\\n",
       "0       1  The Shawshank Redemption  1994     9.3                       Drama   \n",
       "1       2             The Godfather  1972     9.2                 Crime,Drama   \n",
       "2       3           The Dark Knight  2008     9.0          Action,Crime,Drama   \n",
       "3       4     The Godfather Part II  1974     9.0                 Crime,Drama   \n",
       "4       5              12 Angry Men  1957     9.0                 Crime,Drama   \n",
       "..    ...                       ...   ...     ...                         ...   \n",
       "245   246                  The Help  2011     8.1                       Drama   \n",
       "246   247               Dersu Uzala  1975     8.2   Adventure,Biography,Drama   \n",
       "247   248                   Aladdin  1992     8.0  Animation,Adventure,Comedy   \n",
       "248   249                    Gandhi  1982     8.0     Biography,Drama,History   \n",
       "249   250        Dances with Wolves  1990     8.0     Adventure,Drama,Western   \n",
       "\n",
       "    certificate run_time                                            tagline  \\\n",
       "0             R   2h 22m  Fear can hold you prisoner. Hope can set you f...   \n",
       "1             R   2h 55m                         An offer you can't refuse.   \n",
       "2         PG-13   2h 32m                                    Why So Serious?   \n",
       "3             R   3h 22m       All the power on earth can't change destiny.   \n",
       "4      Approved   1h 36m  Life Is In Their Hands -- Death Is On Their Mi...   \n",
       "..          ...      ...                                                ...   \n",
       "245       PG-13   2h 26m                      Change begins with a whisper.   \n",
       "246           G   2h 22m  There is man and beast at nature's mercy. Ther...   \n",
       "247           G   1h 30m                     Wish granted! (DVD re-release)   \n",
       "248          PG   3h 11m             His Triumph Changed The World Forever.   \n",
       "249       PG-13    3h 1m  Inside everyone is a frontier waiting to be di...   \n",
       "\n",
       "            budget     box_office  \\\n",
       "0         25000000       28884504   \n",
       "1          6000000      250341816   \n",
       "2        185000000     1006234167   \n",
       "3         13000000       47961919   \n",
       "4           350000            955   \n",
       "..             ...            ...   \n",
       "245       25000000      216639112   \n",
       "246        4000000          14480   \n",
       "247  Not Available  Not Available   \n",
       "248       22000000       52767889   \n",
       "249       22000000      424208848   \n",
       "\n",
       "                                                 casts  \\\n",
       "0    Tim Robbins,Morgan Freeman,Bob Gunton,William ...   \n",
       "1    Marlon Brando,Al Pacino,James Caan,Diane Keato...   \n",
       "2    Christian Bale,Heath Ledger,Aaron Eckhart,Mich...   \n",
       "3    Al Pacino,Robert De Niro,Robert Duvall,Diane K...   \n",
       "4    Henry Fonda,Lee J. Cobb,Martin Balsam,John Fie...   \n",
       "..                                                 ...   \n",
       "245  Viola Davis,Emma Stone,Octavia Spencer,Bryce D...   \n",
       "246  Maksim Munzuk,Yuriy Solomin,Mikhail Bychkov,Vl...   \n",
       "247  Scott Weinger,Robin Williams,Linda Larkin,Jona...   \n",
       "248  Ben Kingsley,John Gielgud,Rohini Hattangadi,Ro...   \n",
       "249  Kevin Costner,Mary McDonnell,Graham Greene,Rod...   \n",
       "\n",
       "                    directors                                          writers  \n",
       "0              Frank Darabont                      Stephen King,Frank Darabont  \n",
       "1        Francis Ford Coppola                  Mario Puzo,Francis Ford Coppola  \n",
       "2           Christopher Nolan  Jonathan Nolan,Christopher Nolan,David S. Goyer  \n",
       "3        Francis Ford Coppola                  Francis Ford Coppola,Mario Puzo  \n",
       "4                Sidney Lumet                                    Reginald Rose  \n",
       "..                        ...                                              ...  \n",
       "245               Tate Taylor                     Tate Taylor,Kathryn Stockett  \n",
       "246            Akira Kurosawa    Akira Kurosawa,Yuriy Nagibin,Vladimir Arsenev  \n",
       "247  Ron Clements,John Musker             Ron Clements,John Musker,Ted Elliott  \n",
       "248      Richard Attenborough                                      John Briley  \n",
       "249             Kevin Costner                                    Michael Blake  \n",
       "\n",
       "[250 rows x 13 columns]"
      ]
     },
     "execution_count": 163,
     "metadata": {},
     "output_type": "execute_result"
    }
   ],
   "source": [
    "df = pd.read_csv('./imdb-top-250-movies-dataset/IMDB Top 250 Movies.csv')\n",
    "df"
   ]
  },
  {
   "cell_type": "markdown",
   "metadata": {},
   "source": [
    "<strong>Check if any of the budgets is expressed in a foreign currency and convert it to dollars</strong>"
   ]
  },
  {
   "cell_type": "code",
   "execution_count": 164,
   "metadata": {},
   "outputs": [
    {
     "name": "stdout",
     "output_type": "stream",
     "text": [
      "$3300000 City of God 2002\n",
      "RF 115000000 Léon: The Professional 1994\n",
      "Not Available Harakiri 1962\n",
      "Not Available Spider-Man: Into the Spider-Verse 2018\n",
      "EM 32000000 The Boat 1981\n",
      "Not Available Good Will Hunting 1997\n",
      "Not Available Your Name. 2016\n",
      "Not Available High and Low 1963\n",
      "Not Available Capernaum 2018\n",
      "Not Available Come and See 1985\n",
      "Not Available The Hunt 2012\n",
      "Not Available M 1931\n",
      "Not Available Ikiru 1952\n",
      "Not Available Hamilton 2020\n",
      "EM 6000000 Metropolis 1927\n",
      "Not Available Like Stars on Earth 2007\n",
      "Not Available Dangal 2016\n",
      "Not Available Yojimbo 1961\n",
      "Not Available The Secret in Their Eyes 2009\n",
      "Not Available My Neighbor Totoro 1988\n",
      "Not Available Catch Me If You Can 2002\n",
      "Not Available Children of Heaven 1997\n",
      "Not Available Klaus 2019\n",
      "Not Available Gone Girl 2014\n",
      "Not Available Wild Strawberries 1957\n",
      "Not Available The Third Man 1949\n",
      "Not Available In the Name of the Father 1993\n",
      "Not Available The Wages of Fear 1953\n",
      "Not Available Sherlock Jr. 1924\n",
      "Not Available Wild Tales 2014\n",
      "$8240000 Mary and Max 2009\n",
      "Not Available Tokyo Story 1953\n",
      "Not Available The Passion of Joan of Arc 1928\n",
      "Not Available Before Sunset 2004\n",
      "Not Available Pather Panchali 1955\n",
      "Not Available To Be or Not to Be 1942\n",
      "Not Available La haine 1995\n",
      "Not Available Hachi: A Dog's Tale 2009\n",
      "Not Available Jai Bhim 2021\n",
      "Not Available My Father and My Son 2005\n",
      "Not Available The Handmaiden 2016\n",
      "Not Available The 400 Blows 1959\n",
      "Not Available Persona 1966\n",
      "Not Available Aladdin 1992\n"
     ]
    }
   ],
   "source": [
    "import re\n",
    "\n",
    "def check_if_has_letters(budget, name, year):\n",
    "    if re.search(r'\\D+', budget):\n",
    "        print(budget, name, year)\n",
    "\n",
    "def convert_to_dollar(budget, year):\n",
    "    v = re.findall(r'\\d+', budget)\n",
    "    if '$' in budget:\n",
    "        value = int(int(v[0]) / dollar_to_real)\n",
    "    elif 'RF' in budget:\n",
    "        value = int(int(v[0]) / dollar_to_franc)\n",
    "    elif 'EM' in budget and year == 1981:\n",
    "        value = int(int(v[0]) / dollar_to_mark_1981)\n",
    "    elif 'EM' in budget and year == 1927:\n",
    "        value = int(int(v[0]) / dollar_to_mark_1927)\n",
    "    else: \n",
    "        value = budget\n",
    "    return str(value)\n",
    "\n",
    "\n",
    "#Check if there is any non dollar budget in order to convert it to dollars\n",
    "# As seen on https://stackoverflow.com/questions/13331698/how-to-apply-a-function-to-two-columns-of-pandas-dataframe\n",
    "df.apply(lambda x: check_if_has_letters(x['budget'], x['name'], x['year']), axis=1)\n",
    "\n",
    "# Convert the non dollar budgets to dollar\n",
    "# City of God was released in the USA in August 31 2002, and the conversion rate was 1 dollar = 2.979273 real\n",
    "# Léon was released in November 18 1994 and the conversion rate was 1 dollar = 5.696 francs\n",
    "# Das Boot was released in the USA in February 10 1981, and the conversion rate was 1 dollar = 2.1477 deutsche mark\n",
    "# Metropolis was released in the USA in 1927, and the conversion rate was 1 dollar = 4.21 deutsche mark\n",
    "dollar_to_real = 2.979273\n",
    "dollar_to_franc = 5.696\n",
    "dollar_to_mark_1981 = 2.1477\n",
    "dollar_to_mark_1927 = 4.21\n",
    "\n",
    "df['budget'] = df[['budget','year']].apply(lambda x: convert_to_dollar(x['budget'], x['year']), axis=1)"
   ]
  },
  {
   "cell_type": "markdown",
   "metadata": {},
   "source": [
    "<strong>Converted the run time data to datetime and the budget and box office data to numbers</strong>\n",
    "\n",
    "    "
   ]
  },
  {
   "cell_type": "code",
   "execution_count": 165,
   "metadata": {},
   "outputs": [
    {
     "data": {
      "text/html": [
       "<div>\n",
       "<style scoped>\n",
       "    .dataframe tbody tr th:only-of-type {\n",
       "        vertical-align: middle;\n",
       "    }\n",
       "\n",
       "    .dataframe tbody tr th {\n",
       "        vertical-align: top;\n",
       "    }\n",
       "\n",
       "    .dataframe thead th {\n",
       "        text-align: right;\n",
       "    }\n",
       "</style>\n",
       "<table border=\"1\" class=\"dataframe\">\n",
       "  <thead>\n",
       "    <tr style=\"text-align: right;\">\n",
       "      <th></th>\n",
       "      <th>rank</th>\n",
       "      <th>name</th>\n",
       "      <th>year</th>\n",
       "      <th>rating</th>\n",
       "      <th>genre</th>\n",
       "      <th>certificate</th>\n",
       "      <th>run_time</th>\n",
       "      <th>tagline</th>\n",
       "      <th>budget</th>\n",
       "      <th>box_office</th>\n",
       "      <th>casts</th>\n",
       "      <th>directors</th>\n",
       "      <th>writers</th>\n",
       "      <th>run_time_hours</th>\n",
       "      <th>budget_clean_data</th>\n",
       "      <th>box_office_clean_data</th>\n",
       "    </tr>\n",
       "  </thead>\n",
       "  <tbody>\n",
       "    <tr>\n",
       "      <th>0</th>\n",
       "      <td>1</td>\n",
       "      <td>The Shawshank Redemption</td>\n",
       "      <td>1994</td>\n",
       "      <td>9.3</td>\n",
       "      <td>Drama</td>\n",
       "      <td>R</td>\n",
       "      <td>2h 22m</td>\n",
       "      <td>Fear can hold you prisoner. Hope can set you f...</td>\n",
       "      <td>25000000</td>\n",
       "      <td>28884504</td>\n",
       "      <td>Tim Robbins,Morgan Freeman,Bob Gunton,William ...</td>\n",
       "      <td>Frank Darabont</td>\n",
       "      <td>Stephen King,Frank Darabont</td>\n",
       "      <td>1900-01-01 02:22:00</td>\n",
       "      <td>25000000</td>\n",
       "      <td>28884504</td>\n",
       "    </tr>\n",
       "    <tr>\n",
       "      <th>1</th>\n",
       "      <td>2</td>\n",
       "      <td>The Godfather</td>\n",
       "      <td>1972</td>\n",
       "      <td>9.2</td>\n",
       "      <td>Crime,Drama</td>\n",
       "      <td>R</td>\n",
       "      <td>2h 55m</td>\n",
       "      <td>An offer you can't refuse.</td>\n",
       "      <td>6000000</td>\n",
       "      <td>250341816</td>\n",
       "      <td>Marlon Brando,Al Pacino,James Caan,Diane Keato...</td>\n",
       "      <td>Francis Ford Coppola</td>\n",
       "      <td>Mario Puzo,Francis Ford Coppola</td>\n",
       "      <td>1900-01-01 02:55:00</td>\n",
       "      <td>6000000</td>\n",
       "      <td>250341816</td>\n",
       "    </tr>\n",
       "    <tr>\n",
       "      <th>2</th>\n",
       "      <td>3</td>\n",
       "      <td>The Dark Knight</td>\n",
       "      <td>2008</td>\n",
       "      <td>9.0</td>\n",
       "      <td>Action,Crime,Drama</td>\n",
       "      <td>PG-13</td>\n",
       "      <td>2h 32m</td>\n",
       "      <td>Why So Serious?</td>\n",
       "      <td>185000000</td>\n",
       "      <td>1006234167</td>\n",
       "      <td>Christian Bale,Heath Ledger,Aaron Eckhart,Mich...</td>\n",
       "      <td>Christopher Nolan</td>\n",
       "      <td>Jonathan Nolan,Christopher Nolan,David S. Goyer</td>\n",
       "      <td>1900-01-01 02:32:00</td>\n",
       "      <td>185000000</td>\n",
       "      <td>1006234167</td>\n",
       "    </tr>\n",
       "    <tr>\n",
       "      <th>3</th>\n",
       "      <td>4</td>\n",
       "      <td>The Godfather Part II</td>\n",
       "      <td>1974</td>\n",
       "      <td>9.0</td>\n",
       "      <td>Crime,Drama</td>\n",
       "      <td>R</td>\n",
       "      <td>3h 22m</td>\n",
       "      <td>All the power on earth can't change destiny.</td>\n",
       "      <td>13000000</td>\n",
       "      <td>47961919</td>\n",
       "      <td>Al Pacino,Robert De Niro,Robert Duvall,Diane K...</td>\n",
       "      <td>Francis Ford Coppola</td>\n",
       "      <td>Francis Ford Coppola,Mario Puzo</td>\n",
       "      <td>1900-01-01 03:22:00</td>\n",
       "      <td>13000000</td>\n",
       "      <td>47961919</td>\n",
       "    </tr>\n",
       "    <tr>\n",
       "      <th>4</th>\n",
       "      <td>5</td>\n",
       "      <td>12 Angry Men</td>\n",
       "      <td>1957</td>\n",
       "      <td>9.0</td>\n",
       "      <td>Crime,Drama</td>\n",
       "      <td>Approved</td>\n",
       "      <td>1h 36m</td>\n",
       "      <td>Life Is In Their Hands -- Death Is On Their Mi...</td>\n",
       "      <td>350000</td>\n",
       "      <td>955</td>\n",
       "      <td>Henry Fonda,Lee J. Cobb,Martin Balsam,John Fie...</td>\n",
       "      <td>Sidney Lumet</td>\n",
       "      <td>Reginald Rose</td>\n",
       "      <td>1900-01-01 01:36:00</td>\n",
       "      <td>350000</td>\n",
       "      <td>955</td>\n",
       "    </tr>\n",
       "    <tr>\n",
       "      <th>...</th>\n",
       "      <td>...</td>\n",
       "      <td>...</td>\n",
       "      <td>...</td>\n",
       "      <td>...</td>\n",
       "      <td>...</td>\n",
       "      <td>...</td>\n",
       "      <td>...</td>\n",
       "      <td>...</td>\n",
       "      <td>...</td>\n",
       "      <td>...</td>\n",
       "      <td>...</td>\n",
       "      <td>...</td>\n",
       "      <td>...</td>\n",
       "      <td>...</td>\n",
       "      <td>...</td>\n",
       "      <td>...</td>\n",
       "    </tr>\n",
       "    <tr>\n",
       "      <th>245</th>\n",
       "      <td>246</td>\n",
       "      <td>The Help</td>\n",
       "      <td>2011</td>\n",
       "      <td>8.1</td>\n",
       "      <td>Drama</td>\n",
       "      <td>PG-13</td>\n",
       "      <td>2h 26m</td>\n",
       "      <td>Change begins with a whisper.</td>\n",
       "      <td>25000000</td>\n",
       "      <td>216639112</td>\n",
       "      <td>Viola Davis,Emma Stone,Octavia Spencer,Bryce D...</td>\n",
       "      <td>Tate Taylor</td>\n",
       "      <td>Tate Taylor,Kathryn Stockett</td>\n",
       "      <td>1900-01-01 02:26:00</td>\n",
       "      <td>25000000</td>\n",
       "      <td>216639112</td>\n",
       "    </tr>\n",
       "    <tr>\n",
       "      <th>246</th>\n",
       "      <td>247</td>\n",
       "      <td>Dersu Uzala</td>\n",
       "      <td>1975</td>\n",
       "      <td>8.2</td>\n",
       "      <td>Adventure,Biography,Drama</td>\n",
       "      <td>G</td>\n",
       "      <td>2h 22m</td>\n",
       "      <td>There is man and beast at nature's mercy. Ther...</td>\n",
       "      <td>4000000</td>\n",
       "      <td>14480</td>\n",
       "      <td>Maksim Munzuk,Yuriy Solomin,Mikhail Bychkov,Vl...</td>\n",
       "      <td>Akira Kurosawa</td>\n",
       "      <td>Akira Kurosawa,Yuriy Nagibin,Vladimir Arsenev</td>\n",
       "      <td>1900-01-01 02:22:00</td>\n",
       "      <td>4000000</td>\n",
       "      <td>14480</td>\n",
       "    </tr>\n",
       "    <tr>\n",
       "      <th>247</th>\n",
       "      <td>248</td>\n",
       "      <td>Aladdin</td>\n",
       "      <td>1992</td>\n",
       "      <td>8.0</td>\n",
       "      <td>Animation,Adventure,Comedy</td>\n",
       "      <td>G</td>\n",
       "      <td>1h 30m</td>\n",
       "      <td>Wish granted! (DVD re-release)</td>\n",
       "      <td>Not Available</td>\n",
       "      <td>Not Available</td>\n",
       "      <td>Scott Weinger,Robin Williams,Linda Larkin,Jona...</td>\n",
       "      <td>Ron Clements,John Musker</td>\n",
       "      <td>Ron Clements,John Musker,Ted Elliott</td>\n",
       "      <td>1900-01-01 01:30:00</td>\n",
       "      <td>0</td>\n",
       "      <td>0</td>\n",
       "    </tr>\n",
       "    <tr>\n",
       "      <th>248</th>\n",
       "      <td>249</td>\n",
       "      <td>Gandhi</td>\n",
       "      <td>1982</td>\n",
       "      <td>8.0</td>\n",
       "      <td>Biography,Drama,History</td>\n",
       "      <td>PG</td>\n",
       "      <td>3h 11m</td>\n",
       "      <td>His Triumph Changed The World Forever.</td>\n",
       "      <td>22000000</td>\n",
       "      <td>52767889</td>\n",
       "      <td>Ben Kingsley,John Gielgud,Rohini Hattangadi,Ro...</td>\n",
       "      <td>Richard Attenborough</td>\n",
       "      <td>John Briley</td>\n",
       "      <td>1900-01-01 03:11:00</td>\n",
       "      <td>22000000</td>\n",
       "      <td>52767889</td>\n",
       "    </tr>\n",
       "    <tr>\n",
       "      <th>249</th>\n",
       "      <td>250</td>\n",
       "      <td>Dances with Wolves</td>\n",
       "      <td>1990</td>\n",
       "      <td>8.0</td>\n",
       "      <td>Adventure,Drama,Western</td>\n",
       "      <td>PG-13</td>\n",
       "      <td>3h 1m</td>\n",
       "      <td>Inside everyone is a frontier waiting to be di...</td>\n",
       "      <td>22000000</td>\n",
       "      <td>424208848</td>\n",
       "      <td>Kevin Costner,Mary McDonnell,Graham Greene,Rod...</td>\n",
       "      <td>Kevin Costner</td>\n",
       "      <td>Michael Blake</td>\n",
       "      <td>1900-01-01 03:01:00</td>\n",
       "      <td>22000000</td>\n",
       "      <td>424208848</td>\n",
       "    </tr>\n",
       "  </tbody>\n",
       "</table>\n",
       "<p>250 rows × 16 columns</p>\n",
       "</div>"
      ],
      "text/plain": [
       "     rank                      name  year  rating                       genre  \\\n",
       "0       1  The Shawshank Redemption  1994     9.3                       Drama   \n",
       "1       2             The Godfather  1972     9.2                 Crime,Drama   \n",
       "2       3           The Dark Knight  2008     9.0          Action,Crime,Drama   \n",
       "3       4     The Godfather Part II  1974     9.0                 Crime,Drama   \n",
       "4       5              12 Angry Men  1957     9.0                 Crime,Drama   \n",
       "..    ...                       ...   ...     ...                         ...   \n",
       "245   246                  The Help  2011     8.1                       Drama   \n",
       "246   247               Dersu Uzala  1975     8.2   Adventure,Biography,Drama   \n",
       "247   248                   Aladdin  1992     8.0  Animation,Adventure,Comedy   \n",
       "248   249                    Gandhi  1982     8.0     Biography,Drama,History   \n",
       "249   250        Dances with Wolves  1990     8.0     Adventure,Drama,Western   \n",
       "\n",
       "    certificate run_time                                            tagline  \\\n",
       "0             R   2h 22m  Fear can hold you prisoner. Hope can set you f...   \n",
       "1             R   2h 55m                         An offer you can't refuse.   \n",
       "2         PG-13   2h 32m                                    Why So Serious?   \n",
       "3             R   3h 22m       All the power on earth can't change destiny.   \n",
       "4      Approved   1h 36m  Life Is In Their Hands -- Death Is On Their Mi...   \n",
       "..          ...      ...                                                ...   \n",
       "245       PG-13   2h 26m                      Change begins with a whisper.   \n",
       "246           G   2h 22m  There is man and beast at nature's mercy. Ther...   \n",
       "247           G   1h 30m                     Wish granted! (DVD re-release)   \n",
       "248          PG   3h 11m             His Triumph Changed The World Forever.   \n",
       "249       PG-13    3h 1m  Inside everyone is a frontier waiting to be di...   \n",
       "\n",
       "            budget     box_office  \\\n",
       "0         25000000       28884504   \n",
       "1          6000000      250341816   \n",
       "2        185000000     1006234167   \n",
       "3         13000000       47961919   \n",
       "4           350000            955   \n",
       "..             ...            ...   \n",
       "245       25000000      216639112   \n",
       "246        4000000          14480   \n",
       "247  Not Available  Not Available   \n",
       "248       22000000       52767889   \n",
       "249       22000000      424208848   \n",
       "\n",
       "                                                 casts  \\\n",
       "0    Tim Robbins,Morgan Freeman,Bob Gunton,William ...   \n",
       "1    Marlon Brando,Al Pacino,James Caan,Diane Keato...   \n",
       "2    Christian Bale,Heath Ledger,Aaron Eckhart,Mich...   \n",
       "3    Al Pacino,Robert De Niro,Robert Duvall,Diane K...   \n",
       "4    Henry Fonda,Lee J. Cobb,Martin Balsam,John Fie...   \n",
       "..                                                 ...   \n",
       "245  Viola Davis,Emma Stone,Octavia Spencer,Bryce D...   \n",
       "246  Maksim Munzuk,Yuriy Solomin,Mikhail Bychkov,Vl...   \n",
       "247  Scott Weinger,Robin Williams,Linda Larkin,Jona...   \n",
       "248  Ben Kingsley,John Gielgud,Rohini Hattangadi,Ro...   \n",
       "249  Kevin Costner,Mary McDonnell,Graham Greene,Rod...   \n",
       "\n",
       "                    directors  \\\n",
       "0              Frank Darabont   \n",
       "1        Francis Ford Coppola   \n",
       "2           Christopher Nolan   \n",
       "3        Francis Ford Coppola   \n",
       "4                Sidney Lumet   \n",
       "..                        ...   \n",
       "245               Tate Taylor   \n",
       "246            Akira Kurosawa   \n",
       "247  Ron Clements,John Musker   \n",
       "248      Richard Attenborough   \n",
       "249             Kevin Costner   \n",
       "\n",
       "                                             writers      run_time_hours  \\\n",
       "0                        Stephen King,Frank Darabont 1900-01-01 02:22:00   \n",
       "1                    Mario Puzo,Francis Ford Coppola 1900-01-01 02:55:00   \n",
       "2    Jonathan Nolan,Christopher Nolan,David S. Goyer 1900-01-01 02:32:00   \n",
       "3                    Francis Ford Coppola,Mario Puzo 1900-01-01 03:22:00   \n",
       "4                                      Reginald Rose 1900-01-01 01:36:00   \n",
       "..                                               ...                 ...   \n",
       "245                     Tate Taylor,Kathryn Stockett 1900-01-01 02:26:00   \n",
       "246    Akira Kurosawa,Yuriy Nagibin,Vladimir Arsenev 1900-01-01 02:22:00   \n",
       "247             Ron Clements,John Musker,Ted Elliott 1900-01-01 01:30:00   \n",
       "248                                      John Briley 1900-01-01 03:11:00   \n",
       "249                                    Michael Blake 1900-01-01 03:01:00   \n",
       "\n",
       "     budget_clean_data  box_office_clean_data  \n",
       "0             25000000               28884504  \n",
       "1              6000000              250341816  \n",
       "2            185000000             1006234167  \n",
       "3             13000000               47961919  \n",
       "4               350000                    955  \n",
       "..                 ...                    ...  \n",
       "245           25000000              216639112  \n",
       "246            4000000                  14480  \n",
       "247                  0                      0  \n",
       "248           22000000               52767889  \n",
       "249           22000000              424208848  \n",
       "\n",
       "[250 rows x 16 columns]"
      ]
     },
     "execution_count": 165,
     "metadata": {},
     "output_type": "execute_result"
    }
   ],
   "source": [
    "# Handling the missing, incorrect and invalid data in the column 'run_time'\n",
    "\n",
    "# First, I will copy the run_time data to another column \n",
    "# and convert it to datetime to be able to filter it\n",
    "# I could have put the hour and minutes data each in its own column, \n",
    "# but I wanted to filter by datetime values\n",
    "\n",
    "def add_zeros(run_time_hours):\n",
    "    values_with_zeros = []\n",
    "\n",
    "    if len(run_time_hours) == 2:\n",
    "        if len(run_time_hours[0]) == 1:\n",
    "            values_with_zeros.append(\"0\" + run_time_hours[0])        \n",
    "        else:\n",
    "            values_with_zeros.append(run_time_hours[0])        \n",
    "        if len(run_time_hours[1]) == 1:\n",
    "            values_with_zeros.append(\"0\" + run_time_hours[1]) \n",
    "        else: \n",
    "            values_with_zeros.append(run_time_hours[1]) \n",
    "    elif len(run_time_hours) == 1:\n",
    "        if len(run_time_hours[0]) == 1:\n",
    "            values_with_zeros.append(\"0\" + run_time_hours[0])\n",
    "        elif run_time_hours[0].find('h') == -1:\n",
    "            values_with_zeros.append(\"00:\" + run_time_hours[0])\n",
    "        else:\n",
    "            values_with_zeros.append(run_time_hours[0])\n",
    "        \n",
    "    return values_with_zeros\n",
    "\n",
    "\n",
    "# count the number of movies that don't have the runtime\n",
    "\n",
    "# Check the incorrectly filled info\n",
    "df['run_time'].max()\n",
    "not_available = df[df['run_time'] == \"Not Available\"]\n",
    "not_available['run_time'].count()\n",
    "df[df['run_time'].str.find('h') == -1].count()\n",
    "\n",
    "\n",
    "# assign run_time to run_time_hours and convert its different type of data to datetime\n",
    "\n",
    "# Put only the numbers in a list\n",
    "df['run_time_hours'] = df['run_time'].str.findall('\\d+')\n",
    "\n",
    "# add zeros where they lack in order to get the right format\n",
    "df['run_time_hours'] = df['run_time_hours'].apply(lambda x: add_zeros(x)).apply(':'.join)\n",
    "\n",
    "# join the list data with a cólon\n",
    "#df['run_time_hours'] = df['run_time_hours'].apply(':'.join)\n",
    "\n",
    "# add \":00\" if the run_time value only has the hour and \"00:00\" if it has no value\n",
    "df['run_time_hours'] = df['run_time_hours'].apply(lambda x: x + \":00\" if len(x) == 2 else (\"00:00\" if len(x) == 0 else x))\n",
    "\n",
    "# convert the string data to datetime\n",
    "df['run_time_hours'] = df['run_time_hours'].apply(lambda x: pd.to_datetime(x, format='%H:%M'))\n",
    "\n",
    "# Test\n",
    "df['run_time_hours'].between('01/01/1900  01:00:00','01/01/1900  03:00:00')\n",
    "\n",
    "\n",
    "# Handling the missing, incorrect and invalid data in the columns budget and box office data\n",
    "\n",
    "# Count the number of movies for which there is no budget and box office information\n",
    "budget_not_available = df[df['budget'] == 'Not Available']\n",
    "budget_not_available['budget'].count() # there are some... not available\n",
    "\n",
    "box_office_not_available = df[df['box_office'] == 'Not Available']\n",
    "box_office_not_available['box_office'].count() # there are some... not available\n",
    "\n",
    "# Replace 'Nor available' for '0'\n",
    "df['budget_clean_data'] = df['budget'].apply(lambda x : '0' if x == 'Not Available' else x)\n",
    "df['box_office_clean_data'] = df['box_office'].apply(lambda x : '0' if x == 'Not Available' else x)\n",
    "\n",
    "# extract only the digits\n",
    "# as seen on: https://stackoverflow.com/questions/44117326/how-can-i-remove-all-non-numeric-characters-from-all-the-values-in-a-particular\n",
    "df['budget_clean_data'] = df['budget_clean_data'].str.extract('(\\d+)', expand=False)\n",
    "df['box_office_clean_data'] = df['box_office_clean_data'].str.extract('(\\d+)', expand=False)\n",
    "\n",
    "# Convert the budget values to integer\n",
    "df['budget_clean_data'] = df['budget_clean_data'].apply(lambda x: int(x))\n",
    "df['budget'].dtype\n",
    "\n",
    "df['box_office_clean_data'] = df['box_office_clean_data'].apply(lambda x: int(x))\n",
    "df['box_office_clean_data'].dtype\n",
    "\n",
    "df\n"
   ]
  },
  {
   "cell_type": "code",
   "execution_count": 166,
   "metadata": {},
   "outputs": [
    {
     "data": {
      "text/plain": [
       "dtype('int64')"
      ]
     },
     "execution_count": 166,
     "metadata": {},
     "output_type": "execute_result"
    }
   ],
   "source": [
    "# Check the year date type\n",
    "df['year'].dtype"
   ]
  },
  {
   "cell_type": "code",
   "execution_count": 167,
   "metadata": {},
   "outputs": [
    {
     "data": {
      "text/plain": [
       "[]"
      ]
     },
     "execution_count": 167,
     "metadata": {},
     "output_type": "execute_result"
    }
   ],
   "source": [
    "# Find out what column has null values\n",
    "# as seen on: https://stackoverflow.com/questions/36226083/how-to-find-which-columns-contain-any-nan-value-in-pandas-dataframe\"\n",
    "df.columns[df.isna().any()].tolist()"
   ]
  },
  {
   "cell_type": "code",
   "execution_count": 168,
   "metadata": {},
   "outputs": [],
   "source": [
    "import jovian"
   ]
  },
  {
   "cell_type": "code",
   "execution_count": 169,
   "metadata": {},
   "outputs": [
    {
     "data": {
      "application/javascript": [
       "window.require && require([\"base/js/namespace\"],function(Jupyter){Jupyter.notebook.save_checkpoint()})"
      ],
      "text/plain": [
       "<IPython.core.display.Javascript object>"
      ]
     },
     "metadata": {},
     "output_type": "display_data"
    },
    {
     "name": "stdout",
     "output_type": "stream",
     "text": [
      "[jovian] Updating notebook \"miguel-sales-baptista/zerotopandas-imdb-top-250-movies-dataset\" on https://jovian.com\u001b[0m\n",
      "[jovian] Committed successfully! https://jovian.com/miguel-sales-baptista/zerotopandas-imdb-top-250-movies-dataset\u001b[0m\n"
     ]
    },
    {
     "data": {
      "text/plain": [
       "'https://jovian.com/miguel-sales-baptista/zerotopandas-imdb-top-250-movies-dataset'"
      ]
     },
     "execution_count": 169,
     "metadata": {},
     "output_type": "execute_result"
    }
   ],
   "source": [
    "jovian.commit()"
   ]
  },
  {
   "cell_type": "markdown",
   "metadata": {},
   "source": [
    "## Exploratory Analysis and Visualization\n",
    "<ul>\n",
    "    <li><strong>First, I will show some general information about the DataFrame</strong></li>\n",
    "    <li><strong>Then the mean values of some columns</strong></li>\n",
    "    <li><strong>Sort the movies by the box office results</strong></li>\n",
    "    <li><strong>Create a new dataframe with a pivot table to get the number of movies by decade</strong></li>\n",
    "</ul>\n"
   ]
  },
  {
   "cell_type": "code",
   "execution_count": 170,
   "metadata": {},
   "outputs": [
    {
     "name": "stdout",
     "output_type": "stream",
     "text": [
      "<class 'pandas.core.frame.DataFrame'>\n",
      "RangeIndex: 250 entries, 0 to 249\n",
      "Data columns (total 16 columns):\n",
      " #   Column                 Non-Null Count  Dtype         \n",
      "---  ------                 --------------  -----         \n",
      " 0   rank                   250 non-null    int64         \n",
      " 1   name                   250 non-null    object        \n",
      " 2   year                   250 non-null    int64         \n",
      " 3   rating                 250 non-null    float64       \n",
      " 4   genre                  250 non-null    object        \n",
      " 5   certificate            250 non-null    object        \n",
      " 6   run_time               250 non-null    object        \n",
      " 7   tagline                250 non-null    object        \n",
      " 8   budget                 250 non-null    object        \n",
      " 9   box_office             250 non-null    object        \n",
      " 10  casts                  250 non-null    object        \n",
      " 11  directors              250 non-null    object        \n",
      " 12  writers                250 non-null    object        \n",
      " 13  run_time_hours         250 non-null    datetime64[ns]\n",
      " 14  budget_clean_data      250 non-null    int64         \n",
      " 15  box_office_clean_data  250 non-null    int64         \n",
      "dtypes: datetime64[ns](1), float64(1), int64(4), object(10)\n",
      "memory usage: 31.4+ KB\n"
     ]
    },
    {
     "data": {
      "text/plain": [
       "rank                     0\n",
       "name                     0\n",
       "year                     0\n",
       "rating                   0\n",
       "genre                    0\n",
       "certificate              0\n",
       "run_time                 0\n",
       "tagline                  0\n",
       "budget                   0\n",
       "box_office               0\n",
       "casts                    0\n",
       "directors                0\n",
       "writers                  0\n",
       "run_time_hours           0\n",
       "budget_clean_data        0\n",
       "box_office_clean_data    0\n",
       "dtype: int64"
      ]
     },
     "execution_count": 170,
     "metadata": {},
     "output_type": "execute_result"
    }
   ],
   "source": [
    "# Check if the dataset has mote than 3 columns and 150 rows of data\n",
    "df.shape\n",
    "\n",
    "# Get the fileds non-null values and the type of data\n",
    "df.info()\n",
    "\n",
    "# Get a statistical summary of the fields that have integer data types\n",
    "df.describe()\n",
    "\n",
    "# Get each column null values \n",
    "df.isnull().sum()"
   ]
  },
  {
   "cell_type": "markdown",
   "metadata": {},
   "source": [
    "Let's begin by importing`matplotlib.pyplot` and `seaborn`."
   ]
  },
  {
   "cell_type": "code",
   "execution_count": 171,
   "metadata": {},
   "outputs": [],
   "source": [
    "import seaborn as sns\n",
    "import matplotlib\n",
    "import matplotlib.pyplot as plt\n",
    "%matplotlib inline\n",
    "\n",
    "sns.set_style('darkgrid')\n",
    "matplotlib.rcParams['font.size'] = 14\n",
    "matplotlib.rcParams['figure.figsize'] = (9, 5)\n",
    "matplotlib.rcParams['figure.facecolor'] = '#00000000'"
   ]
  },
  {
   "cell_type": "markdown",
   "metadata": {},
   "source": [
    "<strong>Get the mean rating and round it to 2 decimal places</strong>"
   ]
  },
  {
   "cell_type": "code",
   "execution_count": 172,
   "metadata": {},
   "outputs": [
    {
     "data": {
      "text/plain": [
       "8.31"
      ]
     },
     "execution_count": 172,
     "metadata": {},
     "output_type": "execute_result"
    }
   ],
   "source": [
    "round(df['rating'].mean(),2)"
   ]
  },
  {
   "cell_type": "markdown",
   "metadata": {},
   "source": [
    "<strong>Get the mean budget and round it to 2 decimal places</strong>"
   ]
  },
  {
   "cell_type": "code",
   "execution_count": 173,
   "metadata": {},
   "outputs": [
    {
     "data": {
      "text/plain": [
       "43761264.12"
      ]
     },
     "execution_count": 173,
     "metadata": {},
     "output_type": "execute_result"
    }
   ],
   "source": [
    "round(df['budget_clean_data'].mean(),2)"
   ]
  },
  {
   "cell_type": "markdown",
   "metadata": {},
   "source": [
    "<strong>Get the mean box office and round it to 2 decimal places</strong>"
   ]
  },
  {
   "cell_type": "code",
   "execution_count": 174,
   "metadata": {},
   "outputs": [
    {
     "data": {
      "text/plain": [
       "206773997.14"
      ]
     },
     "execution_count": 174,
     "metadata": {},
     "output_type": "execute_result"
    }
   ],
   "source": [
    "round(df['box_office_clean_data'].mean(),2)"
   ]
  },
  {
   "cell_type": "markdown",
   "metadata": {},
   "source": [
    "<strong>Get the movie with the highest box office result</strong> (When the box office results aren't available the value is 0)"
   ]
  },
  {
   "cell_type": "code",
   "execution_count": 175,
   "metadata": {},
   "outputs": [
    {
     "data": {
      "text/html": [
       "<div>\n",
       "<style scoped>\n",
       "    .dataframe tbody tr th:only-of-type {\n",
       "        vertical-align: middle;\n",
       "    }\n",
       "\n",
       "    .dataframe tbody tr th {\n",
       "        vertical-align: top;\n",
       "    }\n",
       "\n",
       "    .dataframe thead th {\n",
       "        text-align: right;\n",
       "    }\n",
       "</style>\n",
       "<table border=\"1\" class=\"dataframe\">\n",
       "  <thead>\n",
       "    <tr style=\"text-align: right;\">\n",
       "      <th></th>\n",
       "      <th>name</th>\n",
       "      <th>box_office_clean_data</th>\n",
       "    </tr>\n",
       "  </thead>\n",
       "  <tbody>\n",
       "    <tr>\n",
       "      <th>77</th>\n",
       "      <td>Avengers: Endgame</td>\n",
       "      <td>2799439100</td>\n",
       "    </tr>\n",
       "    <tr>\n",
       "      <th>62</th>\n",
       "      <td>Avengers: Infinity War</td>\n",
       "      <td>2052415039</td>\n",
       "    </tr>\n",
       "    <tr>\n",
       "      <th>149</th>\n",
       "      <td>Spider-Man: No Way Home</td>\n",
       "      <td>1921847111</td>\n",
       "    </tr>\n",
       "    <tr>\n",
       "      <th>105</th>\n",
       "      <td>Top Gun: Maverick</td>\n",
       "      <td>1488732821</td>\n",
       "    </tr>\n",
       "    <tr>\n",
       "      <th>180</th>\n",
       "      <td>Harry Potter and the Deathly Hallows: Part 2</td>\n",
       "      <td>1342359942</td>\n",
       "    </tr>\n",
       "    <tr>\n",
       "      <th>...</th>\n",
       "      <td>...</td>\n",
       "      <td>...</td>\n",
       "    </tr>\n",
       "    <tr>\n",
       "      <th>65</th>\n",
       "      <td>Spider-Man: Into the Spider-Verse</td>\n",
       "      <td>0</td>\n",
       "    </tr>\n",
       "    <tr>\n",
       "      <th>206</th>\n",
       "      <td>Tokyo Story</td>\n",
       "      <td>0</td>\n",
       "    </tr>\n",
       "    <tr>\n",
       "      <th>207</th>\n",
       "      <td>The Passion of Joan of Arc</td>\n",
       "      <td>0</td>\n",
       "    </tr>\n",
       "    <tr>\n",
       "      <th>220</th>\n",
       "      <td>Before Sunset</td>\n",
       "      <td>0</td>\n",
       "    </tr>\n",
       "    <tr>\n",
       "      <th>172</th>\n",
       "      <td>Catch Me If You Can</td>\n",
       "      <td>0</td>\n",
       "    </tr>\n",
       "  </tbody>\n",
       "</table>\n",
       "<p>250 rows × 2 columns</p>\n",
       "</div>"
      ],
      "text/plain": [
       "                                             name  box_office_clean_data\n",
       "77                              Avengers: Endgame             2799439100\n",
       "62                         Avengers: Infinity War             2052415039\n",
       "149                       Spider-Man: No Way Home             1921847111\n",
       "105                             Top Gun: Maverick             1488732821\n",
       "180  Harry Potter and the Deathly Hallows: Part 2             1342359942\n",
       "..                                            ...                    ...\n",
       "65              Spider-Man: Into the Spider-Verse                      0\n",
       "206                                   Tokyo Story                      0\n",
       "207                    The Passion of Joan of Arc                      0\n",
       "220                                 Before Sunset                      0\n",
       "172                           Catch Me If You Can                      0\n",
       "\n",
       "[250 rows x 2 columns]"
      ]
     },
     "execution_count": 175,
     "metadata": {},
     "output_type": "execute_result"
    }
   ],
   "source": [
    "df_box_office = df[['name', 'box_office_clean_data']].sort_values(by=['box_office_clean_data'], ascending=False)\n",
    "df_box_office"
   ]
  },
  {
   "cell_type": "markdown",
   "metadata": {},
   "source": [
    "<strong>Number of movies by century and by decade in two different type of graphics (barplot and heatmap)</strong>"
   ]
  },
  {
   "cell_type": "code",
   "execution_count": 176,
   "metadata": {},
   "outputs": [
    {
     "data": {
      "text/html": [
       "<div>\n",
       "<style scoped>\n",
       "    .dataframe tbody tr th:only-of-type {\n",
       "        vertical-align: middle;\n",
       "    }\n",
       "\n",
       "    .dataframe tbody tr th {\n",
       "        vertical-align: top;\n",
       "    }\n",
       "\n",
       "    .dataframe thead th {\n",
       "        text-align: right;\n",
       "    }\n",
       "</style>\n",
       "<table border=\"1\" class=\"dataframe\">\n",
       "  <thead>\n",
       "    <tr style=\"text-align: right;\">\n",
       "      <th></th>\n",
       "      <th></th>\n",
       "      <th>total_movies</th>\n",
       "      <th>century</th>\n",
       "      <th>decade</th>\n",
       "    </tr>\n",
       "    <tr>\n",
       "      <th>century</th>\n",
       "      <th>decade</th>\n",
       "      <th></th>\n",
       "      <th></th>\n",
       "      <th></th>\n",
       "    </tr>\n",
       "  </thead>\n",
       "  <tbody>\n",
       "    <tr>\n",
       "      <th rowspan=\"8\" valign=\"top\">20</th>\n",
       "      <th>1920</th>\n",
       "      <td>6</td>\n",
       "      <td>20</td>\n",
       "      <td>1920</td>\n",
       "    </tr>\n",
       "    <tr>\n",
       "      <th>1930</th>\n",
       "      <td>10</td>\n",
       "      <td>20</td>\n",
       "      <td>1930</td>\n",
       "    </tr>\n",
       "    <tr>\n",
       "      <th>1940</th>\n",
       "      <td>12</td>\n",
       "      <td>20</td>\n",
       "      <td>1940</td>\n",
       "    </tr>\n",
       "    <tr>\n",
       "      <th>1950</th>\n",
       "      <td>22</td>\n",
       "      <td>20</td>\n",
       "      <td>1950</td>\n",
       "    </tr>\n",
       "    <tr>\n",
       "      <th>1960</th>\n",
       "      <td>16</td>\n",
       "      <td>20</td>\n",
       "      <td>1960</td>\n",
       "    </tr>\n",
       "    <tr>\n",
       "      <th>1970</th>\n",
       "      <td>23</td>\n",
       "      <td>20</td>\n",
       "      <td>1970</td>\n",
       "    </tr>\n",
       "    <tr>\n",
       "      <th>1980</th>\n",
       "      <td>25</td>\n",
       "      <td>20</td>\n",
       "      <td>1980</td>\n",
       "    </tr>\n",
       "    <tr>\n",
       "      <th>1990</th>\n",
       "      <td>45</td>\n",
       "      <td>20</td>\n",
       "      <td>1990</td>\n",
       "    </tr>\n",
       "    <tr>\n",
       "      <th rowspan=\"3\" valign=\"top\">21</th>\n",
       "      <th>2000</th>\n",
       "      <td>48</td>\n",
       "      <td>21</td>\n",
       "      <td>2000</td>\n",
       "    </tr>\n",
       "    <tr>\n",
       "      <th>2010</th>\n",
       "      <td>40</td>\n",
       "      <td>21</td>\n",
       "      <td>2010</td>\n",
       "    </tr>\n",
       "    <tr>\n",
       "      <th>2020</th>\n",
       "      <td>3</td>\n",
       "      <td>21</td>\n",
       "      <td>2020</td>\n",
       "    </tr>\n",
       "  </tbody>\n",
       "</table>\n",
       "</div>"
      ],
      "text/plain": [
       "                total_movies century  decade\n",
       "century decade                              \n",
       "20      1920               6      20    1920\n",
       "        1930              10      20    1930\n",
       "        1940              12      20    1940\n",
       "        1950              22      20    1950\n",
       "        1960              16      20    1960\n",
       "        1970              23      20    1970\n",
       "        1980              25      20    1980\n",
       "        1990              45      20    1990\n",
       "21      2000              48      21    2000\n",
       "        2010              40      21    2010\n",
       "        2020               3      21    2020"
      ]
     },
     "execution_count": 176,
     "metadata": {},
     "output_type": "execute_result"
    }
   ],
   "source": [
    "import numpy as np\n",
    "\n",
    "#df[df['rating'].between(9.3,10.0)]\n",
    "#df.sort_values(by='rating', axis=0, ascending=False).head(10)\n",
    "# Create a column with the movie century\n",
    "df['century'] = df['year'].apply(lambda x: '20' if x < 2001 else '21')\n",
    "\n",
    "# Create a column with the movie decade\n",
    "df['decade'] = df['year'].apply(lambda x: int(np.floor(x / 10) * 10) if (x % 10) != 0 else (int(np.floor(x / 10) * 10) - 10 ))\n",
    "\n",
    "# Create a column with the total movies count grouped by century and decade\n",
    "df['total_movies'] = df['decade'].count()\n",
    "\n",
    "# Create a new dataframe with the grouped century and decade values\n",
    "df_new = df.groupby(['century', 'decade'])[['total_movies']].count()\n",
    "\n",
    "# Create a column with the movie century in the new dataframe\n",
    "df_new['century'] = df_new.index.to_numpy()\n",
    "df_new['century'] = df_new['century'].apply (lambda x: x[0])\n",
    "\n",
    "# Create a column with the movie decade in the new dataframe\n",
    "df_new['decade'] = df_new.index.to_numpy()\n",
    "df_new['decade'] = df_new['decade'].apply (lambda x: x[1])\n",
    "\n",
    "df_new"
   ]
  },
  {
   "cell_type": "code",
   "execution_count": 177,
   "metadata": {},
   "outputs": [
    {
     "data": {
      "text/plain": [
       "Text(0, 0.5, 'Number of movies')"
      ]
     },
     "execution_count": 177,
     "metadata": {},
     "output_type": "execute_result"
    },
    {
     "data": {
      "image/png": "[encoded data removed]",
      "text/plain": [
       "<Figure size 648x360 with 1 Axes>"
      ]
     },
     "metadata": {
      "needs_background": "light"
     },
     "output_type": "display_data"
    }
   ],
   "source": [
    "# Create a barplot with the decades in axis x and the respetive number of movies in axis y\n",
    "plt.title('Number of movies by decade')\n",
    "sns.barplot(x='decade', y='total_movies', data=df_new);\n",
    "plt.xlabel('Decade')\n",
    "plt.ylabel('Number of movies')"
   ]
  },
  {
   "cell_type": "code",
   "execution_count": 178,
   "metadata": {},
   "outputs": [
    {
     "data": {
      "text/html": [
       "<div>\n",
       "<style scoped>\n",
       "    .dataframe tbody tr th:only-of-type {\n",
       "        vertical-align: middle;\n",
       "    }\n",
       "\n",
       "    .dataframe tbody tr th {\n",
       "        vertical-align: top;\n",
       "    }\n",
       "\n",
       "    .dataframe thead th {\n",
       "        text-align: right;\n",
       "    }\n",
       "</style>\n",
       "<table border=\"1\" class=\"dataframe\">\n",
       "  <thead>\n",
       "    <tr style=\"text-align: right;\">\n",
       "      <th>decade</th>\n",
       "      <th>1920</th>\n",
       "      <th>1930</th>\n",
       "      <th>1940</th>\n",
       "      <th>1950</th>\n",
       "      <th>1960</th>\n",
       "      <th>1970</th>\n",
       "      <th>1980</th>\n",
       "      <th>1990</th>\n",
       "      <th>2000</th>\n",
       "      <th>2010</th>\n",
       "      <th>2020</th>\n",
       "    </tr>\n",
       "    <tr>\n",
       "      <th>century</th>\n",
       "      <th></th>\n",
       "      <th></th>\n",
       "      <th></th>\n",
       "      <th></th>\n",
       "      <th></th>\n",
       "      <th></th>\n",
       "      <th></th>\n",
       "      <th></th>\n",
       "      <th></th>\n",
       "      <th></th>\n",
       "      <th></th>\n",
       "    </tr>\n",
       "  </thead>\n",
       "  <tbody>\n",
       "    <tr>\n",
       "      <th>20</th>\n",
       "      <td>6.0</td>\n",
       "      <td>10.0</td>\n",
       "      <td>12.0</td>\n",
       "      <td>22.0</td>\n",
       "      <td>16.0</td>\n",
       "      <td>23.0</td>\n",
       "      <td>25.0</td>\n",
       "      <td>45.0</td>\n",
       "      <td>0.0</td>\n",
       "      <td>0.0</td>\n",
       "      <td>0.0</td>\n",
       "    </tr>\n",
       "    <tr>\n",
       "      <th>21</th>\n",
       "      <td>0.0</td>\n",
       "      <td>0.0</td>\n",
       "      <td>0.0</td>\n",
       "      <td>0.0</td>\n",
       "      <td>0.0</td>\n",
       "      <td>0.0</td>\n",
       "      <td>0.0</td>\n",
       "      <td>0.0</td>\n",
       "      <td>48.0</td>\n",
       "      <td>40.0</td>\n",
       "      <td>3.0</td>\n",
       "    </tr>\n",
       "  </tbody>\n",
       "</table>\n",
       "</div>"
      ],
      "text/plain": [
       "decade   1920  1930  1940  1950  1960  1970  1980  1990  2000  2010  2020\n",
       "century                                                                  \n",
       "20        6.0  10.0  12.0  22.0  16.0  23.0  25.0  45.0   0.0   0.0   0.0\n",
       "21        0.0   0.0   0.0   0.0   0.0   0.0   0.0   0.0  48.0  40.0   3.0"
      ]
     },
     "execution_count": 178,
     "metadata": {},
     "output_type": "execute_result"
    }
   ],
   "source": [
    "# Pivot the df_new dataframe\n",
    "df_pivot = df_new.copy().pivot(index='century', columns='decade', values='total_movies')\n",
    "# Replace the NaN values with 0.0\n",
    "df_pivot.fillna(0.0, inplace=True)\n",
    "df_pivot"
   ]
  },
  {
   "cell_type": "code",
   "execution_count": 179,
   "metadata": {},
   "outputs": [
    {
     "data": {
      "image/png": "[encoded data removed]",
      "text/plain": [
       "<Figure size 864x144 with 2 Axes>"
      ]
     },
     "metadata": {
      "needs_background": "light"
     },
     "output_type": "display_data"
    }
   ],
   "source": [
    "plt.figure(figsize=(12, 2))\n",
    "plt.title(\"Number of movies by century and decade\")\n",
    "sns.heatmap(df_pivot, annot=True);"
   ]
  },
  {
   "cell_type": "markdown",
   "metadata": {},
   "source": [
    "Let us save and upload our work to Jovian before continuing"
   ]
  },
  {
   "cell_type": "code",
   "execution_count": 180,
   "metadata": {},
   "outputs": [],
   "source": [
    "import jovian"
   ]
  },
  {
   "cell_type": "code",
   "execution_count": 181,
   "metadata": {},
   "outputs": [
    {
     "data": {
      "application/javascript": [
       "window.require && require([\"base/js/namespace\"],function(Jupyter){Jupyter.notebook.save_checkpoint()})"
      ],
      "text/plain": [
       "<IPython.core.display.Javascript object>"
      ]
     },
     "metadata": {},
     "output_type": "display_data"
    },
    {
     "name": "stdout",
     "output_type": "stream",
     "text": [
      "[jovian] Updating notebook \"miguel-sales-baptista/zerotopandas-imdb-top-250-movies-dataset\" on https://jovian.com\u001b[0m\n",
      "[jovian] Committed successfully! https://jovian.com/miguel-sales-baptista/zerotopandas-imdb-top-250-movies-dataset\u001b[0m\n"
     ]
    },
    {
     "data": {
      "text/plain": [
       "'https://jovian.com/miguel-sales-baptista/zerotopandas-imdb-top-250-movies-dataset'"
      ]
     },
     "execution_count": 181,
     "metadata": {},
     "output_type": "execute_result"
    }
   ],
   "source": [
    "jovian.commit()"
   ]
  },
  {
   "cell_type": "markdown",
   "metadata": {},
   "source": [
    "## Asking and Answering Questions\n",
    "\n",
    "**I ask some questions and present some graphics with the answers**\n"
   ]
  },
  {
   "cell_type": "markdown",
   "metadata": {},
   "source": [
    "#### Q1: How many director\\'s acted in and write their own movies?"
   ]
  },
  {
   "cell_type": "markdown",
   "metadata": {},
   "source": [
    "<p>Added 4 columns with:</sp>\n",
    "<ul>\n",
    "    <li>the directors that acted in their own movies </li>\n",
    "    <li>the number of directors that acted in their own movies</li>\n",
    "    <li>the directors that wrote their own movies</li>\n",
    "    <li>the number of directors that wrote their own movies</li>\n",
    "</ul>"
   ]
  },
  {
   "cell_type": "code",
   "execution_count": 182,
   "metadata": {},
   "outputs": [
    {
     "data": {
      "text/plain": [
       "153"
      ]
     },
     "execution_count": 182,
     "metadata": {},
     "output_type": "execute_result"
    }
   ],
   "source": [
    "# Create four columns:\n",
    "# with the directors that acted in their own movies \n",
    "# the number of directors that acted in their own movies \n",
    "# directors that wrote their own movies\n",
    "# the number of directors that wrote their own movies\n",
    "df['directors_list'] = df['directors'].str.split(',')                                                               \n",
    "df['casts_list'] = df['casts'].str.split(',')                                                            \n",
    "df['writers_list'] = df['writers'].str.split(',')                                                            \n",
    "df['directors_actors'] = ''\n",
    "df['number_of_directors_actors'] = 0\n",
    "df['directors_writers'] = ''\n",
    "df['number_of_directors_writers'] = 0\n",
    "\n",
    "for index, row in df.iterrows():\n",
    "    l = []    \n",
    "    count = 0\n",
    "    for d in row['directors_list']:\n",
    "        for a in row['casts_list']:\n",
    "            if d == a:\n",
    "                l.append(d)\n",
    "                count += 1\n",
    "    df.loc[index, 'number_of_directors_actors'] = count\n",
    "    df.loc[index, 'directors_actors'] = \",\".join(l)\n",
    "\n",
    "    \n",
    "for index, row in df.iterrows():\n",
    "    l = []    \n",
    "    count = 0\n",
    "    for d in row['directors_list']:\n",
    "        for w in row['writers_list']:\n",
    "            if d == w:\n",
    "                l.append(d)\n",
    "                count += 1\n",
    "    df.loc[index, 'directors_writers'] = \",\".join(l)\n",
    "    df.loc[index, 'number_of_directors_writers'] = count\n",
    "\n",
    "# Get the total number of directors that acted in their own movies    \n",
    "total_number_of_diretors_actors = df['number_of_directors_actors'].sum()\n",
    "\n",
    "# Get the total number of directors that wrote their own movies\n",
    "total_number_of_diretors_writers = df['number_of_directors_writers'].sum()\n",
    "total_number_of_diretors_writers"
   ]
  },
  {
   "cell_type": "code",
   "execution_count": 183,
   "metadata": {},
   "outputs": [
    {
     "data": {
      "text/plain": [
       "<matplotlib.legend.Legend at 0x7f478f43cb20>"
      ]
     },
     "execution_count": 183,
     "metadata": {},
     "output_type": "execute_result"
    },
    {
     "data": {
      "image/png": "[encoded data removed]",
      "text/plain": [
       "<Figure size 648x360 with 1 Axes>"
      ]
     },
     "metadata": {
      "needs_background": "light"
     },
     "output_type": "display_data"
    }
   ],
   "source": [
    "plt.title(\"Directors that acted in and wrote their own movies\")\n",
    "plt.plot(total_number_of_diretors_actors, total_number_of_diretors_actors, marker='o')\n",
    "plt.plot(total_number_of_diretors_writers, total_number_of_diretors_writers, marker='s')\n",
    "plt.legend(['Number of directors actors', 'Number of directors writers'])"
   ]
  },
  {
   "cell_type": "markdown",
   "metadata": {},
   "source": [
    "#### Q2: What is the relation between cost and revenue of the movies by decade?"
   ]
  },
  {
   "cell_type": "code",
   "execution_count": 184,
   "metadata": {},
   "outputs": [
    {
     "data": {
      "text/html": [
       "<div>\n",
       "<style scoped>\n",
       "    .dataframe tbody tr th:only-of-type {\n",
       "        vertical-align: middle;\n",
       "    }\n",
       "\n",
       "    .dataframe tbody tr th {\n",
       "        vertical-align: top;\n",
       "    }\n",
       "\n",
       "    .dataframe thead th {\n",
       "        text-align: right;\n",
       "    }\n",
       "</style>\n",
       "<table border=\"1\" class=\"dataframe\">\n",
       "  <thead>\n",
       "    <tr style=\"text-align: right;\">\n",
       "      <th></th>\n",
       "      <th>budget_clean_data</th>\n",
       "      <th>box_office_clean_data</th>\n",
       "      <th>decade</th>\n",
       "    </tr>\n",
       "    <tr>\n",
       "      <th>decade</th>\n",
       "      <th></th>\n",
       "      <th></th>\n",
       "      <th></th>\n",
       "    </tr>\n",
       "  </thead>\n",
       "  <tbody>\n",
       "    <tr>\n",
       "      <th>1920</th>\n",
       "      <td>3348178</td>\n",
       "      <td>2170999</td>\n",
       "      <td>1920</td>\n",
       "    </tr>\n",
       "    <tr>\n",
       "      <th>1930</th>\n",
       "      <td>16067000</td>\n",
       "      <td>430568218</td>\n",
       "      <td>1930</td>\n",
       "    </tr>\n",
       "    <tr>\n",
       "      <th>1940</th>\n",
       "      <td>14531989</td>\n",
       "      <td>45731410</td>\n",
       "      <td>1940</td>\n",
       "    </tr>\n",
       "    <tr>\n",
       "      <th>1950</th>\n",
       "      <td>165556595</td>\n",
       "      <td>201672784</td>\n",
       "      <td>1950</td>\n",
       "    </tr>\n",
       "    <tr>\n",
       "      <th>1960</th>\n",
       "      <td>56800000</td>\n",
       "      <td>328099562</td>\n",
       "      <td>1960</td>\n",
       "    </tr>\n",
       "    <tr>\n",
       "      <th>1970</th>\n",
       "      <td>207489575</td>\n",
       "      <td>3400611812</td>\n",
       "      <td>1970</td>\n",
       "    </tr>\n",
       "    <tr>\n",
       "      <th>1980</th>\n",
       "      <td>450899660</td>\n",
       "      <td>3284608825</td>\n",
       "      <td>1980</td>\n",
       "    </tr>\n",
       "    <tr>\n",
       "      <th>1990</th>\n",
       "      <td>3709849606</td>\n",
       "      <td>9623268724</td>\n",
       "      <td>1990</td>\n",
       "    </tr>\n",
       "    <tr>\n",
       "      <th>2000</th>\n",
       "      <td>3363473427</td>\n",
       "      <td>15286753455</td>\n",
       "      <td>2000</td>\n",
       "    </tr>\n",
       "    <tr>\n",
       "      <th>2010</th>\n",
       "      <td>2582300000</td>\n",
       "      <td>15679433563</td>\n",
       "      <td>2010</td>\n",
       "    </tr>\n",
       "    <tr>\n",
       "      <th>2020</th>\n",
       "      <td>370000000</td>\n",
       "      <td>3410579932</td>\n",
       "      <td>2020</td>\n",
       "    </tr>\n",
       "  </tbody>\n",
       "</table>\n",
       "</div>"
      ],
      "text/plain": [
       "        budget_clean_data  box_office_clean_data  decade\n",
       "decade                                                  \n",
       "1920              3348178                2170999    1920\n",
       "1930             16067000              430568218    1930\n",
       "1940             14531989               45731410    1940\n",
       "1950            165556595              201672784    1950\n",
       "1960             56800000              328099562    1960\n",
       "1970            207489575             3400611812    1970\n",
       "1980            450899660             3284608825    1980\n",
       "1990           3709849606             9623268724    1990\n",
       "2000           3363473427            15286753455    2000\n",
       "2010           2582300000            15679433563    2010\n",
       "2020            370000000             3410579932    2020"
      ]
     },
     "execution_count": 184,
     "metadata": {},
     "output_type": "execute_result"
    }
   ],
   "source": [
    "df_new2 = df.copy().groupby(['decade'])[['budget_clean_data', 'box_office_clean_data']].sum()\n",
    "df_new2['decade'] = df_new2.index.to_numpy()\n",
    "df_new2"
   ]
  },
  {
   "cell_type": "code",
   "execution_count": 185,
   "metadata": {},
   "outputs": [
    {
     "data": {
      "image/png": "[encoded data removed]",
      "text/plain": [
       "<Figure size 648x360 with 1 Axes>"
      ]
     },
     "metadata": {
      "needs_background": "light"
     },
     "output_type": "display_data"
    }
   ],
   "source": [
    "plt.title(\"Budget and Box Office results\")\n",
    "\n",
    "plt.ylabel('Values in billions')\n",
    "budget_billions = df_new2['budget_clean_data']/1e9\n",
    "box_office_billions = df_new2['box_office_clean_data']/1e9\n",
    "\n",
    "plt.plot(df_new2['decade'], budget_billions, lw=5)\n",
    "plt.plot(df_new2['decade'], box_office_billions, lw=5)\n",
    "plt.legend(['Money spent', 'Box Office'])\n",
    "\n",
    "plt.show()"
   ]
  },
  {
   "cell_type": "markdown",
   "metadata": {},
   "source": [
    "#### Q3: What genres and how many movies by genre are part of the top 250?"
   ]
  },
  {
   "cell_type": "code",
   "execution_count": 186,
   "metadata": {},
   "outputs": [
    {
     "data": {
      "text/plain": [
       "array(['Action', 'Adventure', 'Animation', 'Biography', 'Comedy', 'Crime',\n",
       "       'Drama', 'Family', 'Fantasy', 'Film-Noir', 'History', 'Horror',\n",
       "       'Music', 'Musical', 'Mystery', 'Romance', 'Sci-Fi', 'Sport',\n",
       "       'Thriller', 'War', 'Western'], dtype='<U9')"
      ]
     },
     "execution_count": 186,
     "metadata": {},
     "output_type": "execute_result"
    }
   ],
   "source": [
    "# Number of movies by genres\n",
    "\n",
    "# Get the unique genres\n",
    "\n",
    "# First split the genres\n",
    "lists_with_genres = []\n",
    "for index, row in df.iterrows():\n",
    "    lists_with_genres.append(row['genre'].split(','))\n",
    "\n",
    "# then put it in one list\n",
    "list_with_genres = []\n",
    "for genre in lists_with_genres:\n",
    "    for g in genre:\n",
    "        list_with_genres.append(g)\n",
    "\n",
    "# get the unique genres        \n",
    "list_of_genres_unique_values = np.unique(list_with_genres)\n",
    "list_of_genres_unique_values"
   ]
  },
  {
   "cell_type": "code",
   "execution_count": 187,
   "metadata": {},
   "outputs": [
    {
     "data": {
      "text/plain": [
       "<BarContainer object of 21 artists>"
      ]
     },
     "execution_count": 187,
     "metadata": {},
     "output_type": "execute_result"
    },
    {
     "data": {
      "image/png": "[encoded data removed]",
      "text/plain": [
       "<Figure size 2016x432 with 1 Axes>"
      ]
     },
     "metadata": {
      "needs_background": "light"
     },
     "output_type": "display_data"
    }
   ],
   "source": [
    "# New dataframe with lists with each movie genres\n",
    "df_genres = pd.DataFrame()\n",
    "df_genres['genre'] = df['genre'].str.split(',')                                                               \n",
    "\n",
    "# Put each genre on its own row to count it\n",
    "df_genres = df_genres.explode('genre')\n",
    "\n",
    "# Count the number of times each genre appears\n",
    "list_genre_counts = df_genres[\"genre\"].value_counts().sort_index()\n",
    "\n",
    "# Bar plot with the number of movies by genre\n",
    "plt.figure(figsize=(28, 6))\n",
    "plt.title('Number of movies by genre')\n",
    "# got the color from: https://en.wikipedia.org/wiki/X11_color_names\n",
    "plt.bar(list_of_genres_unique_values, list_genre_counts, color='royalblue')"
   ]
  },
  {
   "cell_type": "markdown",
   "metadata": {},
   "source": [
    "#### Q4: How many movies have less than 1, between 1 and 2, between 2 and 3 and more than 4 hours?"
   ]
  },
  {
   "cell_type": "code",
   "execution_count": 188,
   "metadata": {},
   "outputs": [
    {
     "data": {
      "text/html": [
       "<div>\n",
       "<style scoped>\n",
       "    .dataframe tbody tr th:only-of-type {\n",
       "        vertical-align: middle;\n",
       "    }\n",
       "\n",
       "    .dataframe tbody tr th {\n",
       "        vertical-align: top;\n",
       "    }\n",
       "\n",
       "    .dataframe thead th {\n",
       "        text-align: right;\n",
       "    }\n",
       "</style>\n",
       "<table border=\"1\" class=\"dataframe\">\n",
       "  <thead>\n",
       "    <tr style=\"text-align: right;\">\n",
       "      <th></th>\n",
       "      <th>rank</th>\n",
       "      <th>name</th>\n",
       "      <th>year</th>\n",
       "      <th>rating</th>\n",
       "      <th>genre</th>\n",
       "      <th>certificate</th>\n",
       "      <th>run_time</th>\n",
       "      <th>tagline</th>\n",
       "      <th>budget</th>\n",
       "      <th>box_office</th>\n",
       "      <th>...</th>\n",
       "      <th>decade</th>\n",
       "      <th>total_movies</th>\n",
       "      <th>directors_list</th>\n",
       "      <th>casts_list</th>\n",
       "      <th>writers_list</th>\n",
       "      <th>directors_actors</th>\n",
       "      <th>number_of_directors_actors</th>\n",
       "      <th>directors_writers</th>\n",
       "      <th>number_of_directors_writers</th>\n",
       "      <th>run_time_interval</th>\n",
       "    </tr>\n",
       "  </thead>\n",
       "  <tbody>\n",
       "    <tr>\n",
       "      <th>0</th>\n",
       "      <td>1</td>\n",
       "      <td>The Shawshank Redemption</td>\n",
       "      <td>1994</td>\n",
       "      <td>9.3</td>\n",
       "      <td>Drama</td>\n",
       "      <td>R</td>\n",
       "      <td>2h 22m</td>\n",
       "      <td>Fear can hold you prisoner. Hope can set you f...</td>\n",
       "      <td>25000000</td>\n",
       "      <td>28884504</td>\n",
       "      <td>...</td>\n",
       "      <td>1990</td>\n",
       "      <td>250</td>\n",
       "      <td>[Frank Darabont]</td>\n",
       "      <td>[Tim Robbins, Morgan Freeman, Bob Gunton, Will...</td>\n",
       "      <td>[Stephen King, Frank Darabont]</td>\n",
       "      <td></td>\n",
       "      <td>0</td>\n",
       "      <td>Frank Darabont</td>\n",
       "      <td>1</td>\n",
       "      <td>between 2 and 3 hours</td>\n",
       "    </tr>\n",
       "    <tr>\n",
       "      <th>1</th>\n",
       "      <td>2</td>\n",
       "      <td>The Godfather</td>\n",
       "      <td>1972</td>\n",
       "      <td>9.2</td>\n",
       "      <td>Crime,Drama</td>\n",
       "      <td>R</td>\n",
       "      <td>2h 55m</td>\n",
       "      <td>An offer you can't refuse.</td>\n",
       "      <td>6000000</td>\n",
       "      <td>250341816</td>\n",
       "      <td>...</td>\n",
       "      <td>1970</td>\n",
       "      <td>250</td>\n",
       "      <td>[Francis Ford Coppola]</td>\n",
       "      <td>[Marlon Brando, Al Pacino, James Caan, Diane K...</td>\n",
       "      <td>[Mario Puzo, Francis Ford Coppola]</td>\n",
       "      <td></td>\n",
       "      <td>0</td>\n",
       "      <td>Francis Ford Coppola</td>\n",
       "      <td>1</td>\n",
       "      <td>between 2 and 3 hours</td>\n",
       "    </tr>\n",
       "    <tr>\n",
       "      <th>2</th>\n",
       "      <td>3</td>\n",
       "      <td>The Dark Knight</td>\n",
       "      <td>2008</td>\n",
       "      <td>9.0</td>\n",
       "      <td>Action,Crime,Drama</td>\n",
       "      <td>PG-13</td>\n",
       "      <td>2h 32m</td>\n",
       "      <td>Why So Serious?</td>\n",
       "      <td>185000000</td>\n",
       "      <td>1006234167</td>\n",
       "      <td>...</td>\n",
       "      <td>2000</td>\n",
       "      <td>250</td>\n",
       "      <td>[Christopher Nolan]</td>\n",
       "      <td>[Christian Bale, Heath Ledger, Aaron Eckhart, ...</td>\n",
       "      <td>[Jonathan Nolan, Christopher Nolan, David S. G...</td>\n",
       "      <td></td>\n",
       "      <td>0</td>\n",
       "      <td>Christopher Nolan</td>\n",
       "      <td>1</td>\n",
       "      <td>between 2 and 3 hours</td>\n",
       "    </tr>\n",
       "    <tr>\n",
       "      <th>3</th>\n",
       "      <td>4</td>\n",
       "      <td>The Godfather Part II</td>\n",
       "      <td>1974</td>\n",
       "      <td>9.0</td>\n",
       "      <td>Crime,Drama</td>\n",
       "      <td>R</td>\n",
       "      <td>3h 22m</td>\n",
       "      <td>All the power on earth can't change destiny.</td>\n",
       "      <td>13000000</td>\n",
       "      <td>47961919</td>\n",
       "      <td>...</td>\n",
       "      <td>1970</td>\n",
       "      <td>250</td>\n",
       "      <td>[Francis Ford Coppola]</td>\n",
       "      <td>[Al Pacino, Robert De Niro, Robert Duvall, Dia...</td>\n",
       "      <td>[Francis Ford Coppola, Mario Puzo]</td>\n",
       "      <td></td>\n",
       "      <td>0</td>\n",
       "      <td>Francis Ford Coppola</td>\n",
       "      <td>1</td>\n",
       "      <td>more than 3 hours</td>\n",
       "    </tr>\n",
       "    <tr>\n",
       "      <th>4</th>\n",
       "      <td>5</td>\n",
       "      <td>12 Angry Men</td>\n",
       "      <td>1957</td>\n",
       "      <td>9.0</td>\n",
       "      <td>Crime,Drama</td>\n",
       "      <td>Approved</td>\n",
       "      <td>1h 36m</td>\n",
       "      <td>Life Is In Their Hands -- Death Is On Their Mi...</td>\n",
       "      <td>350000</td>\n",
       "      <td>955</td>\n",
       "      <td>...</td>\n",
       "      <td>1950</td>\n",
       "      <td>250</td>\n",
       "      <td>[Sidney Lumet]</td>\n",
       "      <td>[Henry Fonda, Lee J. Cobb, Martin Balsam, John...</td>\n",
       "      <td>[Reginald Rose]</td>\n",
       "      <td></td>\n",
       "      <td>0</td>\n",
       "      <td></td>\n",
       "      <td>0</td>\n",
       "      <td>between 1 and 2 hours</td>\n",
       "    </tr>\n",
       "    <tr>\n",
       "      <th>...</th>\n",
       "      <td>...</td>\n",
       "      <td>...</td>\n",
       "      <td>...</td>\n",
       "      <td>...</td>\n",
       "      <td>...</td>\n",
       "      <td>...</td>\n",
       "      <td>...</td>\n",
       "      <td>...</td>\n",
       "      <td>...</td>\n",
       "      <td>...</td>\n",
       "      <td>...</td>\n",
       "      <td>...</td>\n",
       "      <td>...</td>\n",
       "      <td>...</td>\n",
       "      <td>...</td>\n",
       "      <td>...</td>\n",
       "      <td>...</td>\n",
       "      <td>...</td>\n",
       "      <td>...</td>\n",
       "      <td>...</td>\n",
       "      <td>...</td>\n",
       "    </tr>\n",
       "    <tr>\n",
       "      <th>245</th>\n",
       "      <td>246</td>\n",
       "      <td>The Help</td>\n",
       "      <td>2011</td>\n",
       "      <td>8.1</td>\n",
       "      <td>Drama</td>\n",
       "      <td>PG-13</td>\n",
       "      <td>2h 26m</td>\n",
       "      <td>Change begins with a whisper.</td>\n",
       "      <td>25000000</td>\n",
       "      <td>216639112</td>\n",
       "      <td>...</td>\n",
       "      <td>2010</td>\n",
       "      <td>250</td>\n",
       "      <td>[Tate Taylor]</td>\n",
       "      <td>[Viola Davis, Emma Stone, Octavia Spencer, Bry...</td>\n",
       "      <td>[Tate Taylor, Kathryn Stockett]</td>\n",
       "      <td></td>\n",
       "      <td>0</td>\n",
       "      <td>Tate Taylor</td>\n",
       "      <td>1</td>\n",
       "      <td>between 2 and 3 hours</td>\n",
       "    </tr>\n",
       "    <tr>\n",
       "      <th>246</th>\n",
       "      <td>247</td>\n",
       "      <td>Dersu Uzala</td>\n",
       "      <td>1975</td>\n",
       "      <td>8.2</td>\n",
       "      <td>Adventure,Biography,Drama</td>\n",
       "      <td>G</td>\n",
       "      <td>2h 22m</td>\n",
       "      <td>There is man and beast at nature's mercy. Ther...</td>\n",
       "      <td>4000000</td>\n",
       "      <td>14480</td>\n",
       "      <td>...</td>\n",
       "      <td>1970</td>\n",
       "      <td>250</td>\n",
       "      <td>[Akira Kurosawa]</td>\n",
       "      <td>[Maksim Munzuk, Yuriy Solomin, Mikhail Bychkov...</td>\n",
       "      <td>[Akira Kurosawa, Yuriy Nagibin, Vladimir Arsenev]</td>\n",
       "      <td></td>\n",
       "      <td>0</td>\n",
       "      <td>Akira Kurosawa</td>\n",
       "      <td>1</td>\n",
       "      <td>between 2 and 3 hours</td>\n",
       "    </tr>\n",
       "    <tr>\n",
       "      <th>247</th>\n",
       "      <td>248</td>\n",
       "      <td>Aladdin</td>\n",
       "      <td>1992</td>\n",
       "      <td>8.0</td>\n",
       "      <td>Animation,Adventure,Comedy</td>\n",
       "      <td>G</td>\n",
       "      <td>1h 30m</td>\n",
       "      <td>Wish granted! (DVD re-release)</td>\n",
       "      <td>Not Available</td>\n",
       "      <td>Not Available</td>\n",
       "      <td>...</td>\n",
       "      <td>1990</td>\n",
       "      <td>250</td>\n",
       "      <td>[Ron Clements, John Musker]</td>\n",
       "      <td>[Scott Weinger, Robin Williams, Linda Larkin, ...</td>\n",
       "      <td>[Ron Clements, John Musker, Ted Elliott]</td>\n",
       "      <td></td>\n",
       "      <td>0</td>\n",
       "      <td>Ron Clements,John Musker</td>\n",
       "      <td>2</td>\n",
       "      <td>between 1 and 2 hours</td>\n",
       "    </tr>\n",
       "    <tr>\n",
       "      <th>248</th>\n",
       "      <td>249</td>\n",
       "      <td>Gandhi</td>\n",
       "      <td>1982</td>\n",
       "      <td>8.0</td>\n",
       "      <td>Biography,Drama,History</td>\n",
       "      <td>PG</td>\n",
       "      <td>3h 11m</td>\n",
       "      <td>His Triumph Changed The World Forever.</td>\n",
       "      <td>22000000</td>\n",
       "      <td>52767889</td>\n",
       "      <td>...</td>\n",
       "      <td>1980</td>\n",
       "      <td>250</td>\n",
       "      <td>[Richard Attenborough]</td>\n",
       "      <td>[Ben Kingsley, John Gielgud, Rohini Hattangadi...</td>\n",
       "      <td>[John Briley]</td>\n",
       "      <td></td>\n",
       "      <td>0</td>\n",
       "      <td></td>\n",
       "      <td>0</td>\n",
       "      <td>more than 3 hours</td>\n",
       "    </tr>\n",
       "    <tr>\n",
       "      <th>249</th>\n",
       "      <td>250</td>\n",
       "      <td>Dances with Wolves</td>\n",
       "      <td>1990</td>\n",
       "      <td>8.0</td>\n",
       "      <td>Adventure,Drama,Western</td>\n",
       "      <td>PG-13</td>\n",
       "      <td>3h 1m</td>\n",
       "      <td>Inside everyone is a frontier waiting to be di...</td>\n",
       "      <td>22000000</td>\n",
       "      <td>424208848</td>\n",
       "      <td>...</td>\n",
       "      <td>1980</td>\n",
       "      <td>250</td>\n",
       "      <td>[Kevin Costner]</td>\n",
       "      <td>[Kevin Costner, Mary McDonnell, Graham Greene,...</td>\n",
       "      <td>[Michael Blake]</td>\n",
       "      <td>Kevin Costner</td>\n",
       "      <td>1</td>\n",
       "      <td></td>\n",
       "      <td>0</td>\n",
       "      <td>more than 3 hours</td>\n",
       "    </tr>\n",
       "  </tbody>\n",
       "</table>\n",
       "<p>250 rows × 27 columns</p>\n",
       "</div>"
      ],
      "text/plain": [
       "     rank                      name  year  rating                       genre  \\\n",
       "0       1  The Shawshank Redemption  1994     9.3                       Drama   \n",
       "1       2             The Godfather  1972     9.2                 Crime,Drama   \n",
       "2       3           The Dark Knight  2008     9.0          Action,Crime,Drama   \n",
       "3       4     The Godfather Part II  1974     9.0                 Crime,Drama   \n",
       "4       5              12 Angry Men  1957     9.0                 Crime,Drama   \n",
       "..    ...                       ...   ...     ...                         ...   \n",
       "245   246                  The Help  2011     8.1                       Drama   \n",
       "246   247               Dersu Uzala  1975     8.2   Adventure,Biography,Drama   \n",
       "247   248                   Aladdin  1992     8.0  Animation,Adventure,Comedy   \n",
       "248   249                    Gandhi  1982     8.0     Biography,Drama,History   \n",
       "249   250        Dances with Wolves  1990     8.0     Adventure,Drama,Western   \n",
       "\n",
       "    certificate run_time                                            tagline  \\\n",
       "0             R   2h 22m  Fear can hold you prisoner. Hope can set you f...   \n",
       "1             R   2h 55m                         An offer you can't refuse.   \n",
       "2         PG-13   2h 32m                                    Why So Serious?   \n",
       "3             R   3h 22m       All the power on earth can't change destiny.   \n",
       "4      Approved   1h 36m  Life Is In Their Hands -- Death Is On Their Mi...   \n",
       "..          ...      ...                                                ...   \n",
       "245       PG-13   2h 26m                      Change begins with a whisper.   \n",
       "246           G   2h 22m  There is man and beast at nature's mercy. Ther...   \n",
       "247           G   1h 30m                     Wish granted! (DVD re-release)   \n",
       "248          PG   3h 11m             His Triumph Changed The World Forever.   \n",
       "249       PG-13    3h 1m  Inside everyone is a frontier waiting to be di...   \n",
       "\n",
       "            budget     box_office  ... decade total_movies  \\\n",
       "0         25000000       28884504  ...   1990          250   \n",
       "1          6000000      250341816  ...   1970          250   \n",
       "2        185000000     1006234167  ...   2000          250   \n",
       "3         13000000       47961919  ...   1970          250   \n",
       "4           350000            955  ...   1950          250   \n",
       "..             ...            ...  ...    ...          ...   \n",
       "245       25000000      216639112  ...   2010          250   \n",
       "246        4000000          14480  ...   1970          250   \n",
       "247  Not Available  Not Available  ...   1990          250   \n",
       "248       22000000       52767889  ...   1980          250   \n",
       "249       22000000      424208848  ...   1980          250   \n",
       "\n",
       "                  directors_list  \\\n",
       "0               [Frank Darabont]   \n",
       "1         [Francis Ford Coppola]   \n",
       "2            [Christopher Nolan]   \n",
       "3         [Francis Ford Coppola]   \n",
       "4                 [Sidney Lumet]   \n",
       "..                           ...   \n",
       "245                [Tate Taylor]   \n",
       "246             [Akira Kurosawa]   \n",
       "247  [Ron Clements, John Musker]   \n",
       "248       [Richard Attenborough]   \n",
       "249              [Kevin Costner]   \n",
       "\n",
       "                                            casts_list  \\\n",
       "0    [Tim Robbins, Morgan Freeman, Bob Gunton, Will...   \n",
       "1    [Marlon Brando, Al Pacino, James Caan, Diane K...   \n",
       "2    [Christian Bale, Heath Ledger, Aaron Eckhart, ...   \n",
       "3    [Al Pacino, Robert De Niro, Robert Duvall, Dia...   \n",
       "4    [Henry Fonda, Lee J. Cobb, Martin Balsam, John...   \n",
       "..                                                 ...   \n",
       "245  [Viola Davis, Emma Stone, Octavia Spencer, Bry...   \n",
       "246  [Maksim Munzuk, Yuriy Solomin, Mikhail Bychkov...   \n",
       "247  [Scott Weinger, Robin Williams, Linda Larkin, ...   \n",
       "248  [Ben Kingsley, John Gielgud, Rohini Hattangadi...   \n",
       "249  [Kevin Costner, Mary McDonnell, Graham Greene,...   \n",
       "\n",
       "                                          writers_list  directors_actors  \\\n",
       "0                       [Stephen King, Frank Darabont]                     \n",
       "1                   [Mario Puzo, Francis Ford Coppola]                     \n",
       "2    [Jonathan Nolan, Christopher Nolan, David S. G...                     \n",
       "3                   [Francis Ford Coppola, Mario Puzo]                     \n",
       "4                                      [Reginald Rose]                     \n",
       "..                                                 ...               ...   \n",
       "245                    [Tate Taylor, Kathryn Stockett]                     \n",
       "246  [Akira Kurosawa, Yuriy Nagibin, Vladimir Arsenev]                     \n",
       "247           [Ron Clements, John Musker, Ted Elliott]                     \n",
       "248                                      [John Briley]                     \n",
       "249                                    [Michael Blake]     Kevin Costner   \n",
       "\n",
       "    number_of_directors_actors         directors_writers  \\\n",
       "0                            0            Frank Darabont   \n",
       "1                            0      Francis Ford Coppola   \n",
       "2                            0         Christopher Nolan   \n",
       "3                            0      Francis Ford Coppola   \n",
       "4                            0                             \n",
       "..                         ...                       ...   \n",
       "245                          0               Tate Taylor   \n",
       "246                          0            Akira Kurosawa   \n",
       "247                          0  Ron Clements,John Musker   \n",
       "248                          0                             \n",
       "249                          1                             \n",
       "\n",
       "     number_of_directors_writers      run_time_interval  \n",
       "0                              1  between 2 and 3 hours  \n",
       "1                              1  between 2 and 3 hours  \n",
       "2                              1  between 2 and 3 hours  \n",
       "3                              1      more than 3 hours  \n",
       "4                              0  between 1 and 2 hours  \n",
       "..                           ...                    ...  \n",
       "245                            1  between 2 and 3 hours  \n",
       "246                            1  between 2 and 3 hours  \n",
       "247                            2  between 1 and 2 hours  \n",
       "248                            0      more than 3 hours  \n",
       "249                            0      more than 3 hours  \n",
       "\n",
       "[250 rows x 27 columns]"
      ]
     },
     "execution_count": 188,
     "metadata": {},
     "output_type": "execute_result"
    }
   ],
   "source": [
    "# Create a column with a description of the movies run time intervals\n",
    "\n",
    "df['run_time_interval'] = ''\n",
    "\n",
    "def run_time_string(x):\n",
    "    if x > pd.to_datetime('01/01/1900  00:00:01') and x < pd.to_datetime('01/01/1900  01:00:00'):\n",
    "        return 'less than 1 hour'\n",
    "    elif x > pd.to_datetime('01/01/1900  01:00:01') and x < pd.to_datetime('01/01/1900  02:00:00'):\n",
    "        return 'between 1 and 2 hours'\n",
    "    elif x > pd.to_datetime('01/01/1900  02:00:01') and x < pd.to_datetime('01/01/1900  03:00:00'):\n",
    "        return 'between 2 and 3 hours'    \n",
    "    else:\n",
    "        return 'more than 3 hours'\n",
    "        \n",
    "\n",
    "df['run_time_interval'] = df['run_time_hours'].apply(lambda x: run_time_string(x))\n",
    "df"
   ]
  },
  {
   "cell_type": "code",
   "execution_count": 189,
   "metadata": {},
   "outputs": [
    {
     "data": {
      "text/html": [
       "<div>\n",
       "<style scoped>\n",
       "    .dataframe tbody tr th:only-of-type {\n",
       "        vertical-align: middle;\n",
       "    }\n",
       "\n",
       "    .dataframe tbody tr th {\n",
       "        vertical-align: top;\n",
       "    }\n",
       "\n",
       "    .dataframe thead th {\n",
       "        text-align: right;\n",
       "    }\n",
       "</style>\n",
       "<table border=\"1\" class=\"dataframe\">\n",
       "  <thead>\n",
       "    <tr style=\"text-align: right;\">\n",
       "      <th></th>\n",
       "      <th>run_time_interval</th>\n",
       "      <th>count</th>\n",
       "    </tr>\n",
       "  </thead>\n",
       "  <tbody>\n",
       "    <tr>\n",
       "      <th>0</th>\n",
       "      <td>1-less than 1 hour</td>\n",
       "      <td>1</td>\n",
       "    </tr>\n",
       "    <tr>\n",
       "      <th>1</th>\n",
       "      <td>2-between 1 and 2 hours</td>\n",
       "      <td>97</td>\n",
       "    </tr>\n",
       "    <tr>\n",
       "      <th>2</th>\n",
       "      <td>3-between 2 and 3 hours</td>\n",
       "      <td>132</td>\n",
       "    </tr>\n",
       "    <tr>\n",
       "      <th>3</th>\n",
       "      <td>4-more than 3 hours</td>\n",
       "      <td>20</td>\n",
       "    </tr>\n",
       "  </tbody>\n",
       "</table>\n",
       "</div>"
      ],
      "text/plain": [
       "         run_time_interval  count\n",
       "0       1-less than 1 hour      1\n",
       "1  2-between 1 and 2 hours     97\n",
       "2  3-between 2 and 3 hours    132\n",
       "3      4-more than 3 hours     20"
      ]
     },
     "execution_count": 189,
     "metadata": {},
     "output_type": "execute_result"
    }
   ],
   "source": [
    "# Create a new dataframe with the count of the description of the movies run time intervals\n",
    "\n",
    "df_hours_str = pd.DataFrame()\n",
    "\n",
    "df_hours_str['run_time_interval'] = ''\n",
    "\n",
    "def run_time_string(x):\n",
    "    if x > pd.to_datetime('01/01/1900  00:00:01') and x < pd.to_datetime('01/01/1900  01:00:00'):\n",
    "        return '1-less than 1 hour'\n",
    "    elif x > pd.to_datetime('01/01/1900  01:00:01') and x < pd.to_datetime('01/01/1900  02:00:00'):\n",
    "        return '2-between 1 and 2 hours'\n",
    "    elif x > pd.to_datetime('01/01/1900  02:00:01') and x < pd.to_datetime('01/01/1900  03:00:00'):\n",
    "        return '3-between 2 and 3 hours'    \n",
    "    else:\n",
    "        return '4-more than 3 hours'\n",
    "        \n",
    "\n",
    "df_hours_str['run_time_interval'] = df['run_time_hours'].apply(lambda x: run_time_string(x))\n",
    "\n",
    "\n",
    "df_hours_str['count'] = df_hours_str['run_time_interval']\n",
    "\n",
    "df_hours_str = df_hours_str.groupby(['run_time_interval'], as_index=False)['count'].count()\n",
    "\n",
    "df_hours_str"
   ]
  },
  {
   "cell_type": "code",
   "execution_count": 190,
   "metadata": {},
   "outputs": [
    {
     "data": {
      "text/plain": [
       "[<matplotlib.lines.Line2D at 0x7f478f19eb50>]"
      ]
     },
     "execution_count": 190,
     "metadata": {},
     "output_type": "execute_result"
    },
    {
     "data": {
      "image/png": "[encoded data removed]",
      "text/plain": [
       "<Figure size 864x432 with 1 Axes>"
      ]
     },
     "metadata": {
      "needs_background": "light"
     },
     "output_type": "display_data"
    }
   ],
   "source": [
    "plt.figure(figsize=(12, 6))\n",
    "plt.title(\"Number of movies by hour intervals\")\n",
    "plt.legend(['Run time interval', 'Number if movies']);\n",
    "plt.plot(df_hours_str['run_time_interval'], df_hours_str['count'], marker='o')"
   ]
  },
  {
   "cell_type": "markdown",
   "metadata": {},
   "source": [
    "#### Q5: Can I see all of the above graphics in just one area? :)"
   ]
  },
  {
   "cell_type": "code",
   "execution_count": 191,
   "metadata": {},
   "outputs": [
    {
     "data": {
      "text/plain": [
       "[<matplotlib.lines.Line2D at 0x7f478eada940>]"
      ]
     },
     "execution_count": 191,
     "metadata": {},
     "output_type": "execute_result"
    },
    {
     "data": {
      "image/png": "[encoded data removed]",
      "text/plain": [
       "<Figure size 1152x1008 with 5 Axes>"
      ]
     },
     "metadata": {
      "needs_background": "light"
     },
     "output_type": "display_data"
    }
   ],
   "source": [
    "fig, axes = plt.subplots(2, 2, figsize=(16, 14))\n",
    "\n",
    "# adjust the padding between the axes\n",
    "plt.tight_layout(pad=4);\n",
    "\n",
    "# axes[0,0]\n",
    "axes[0,0].set_title('Number of movies by decade')\n",
    "sns.barplot(x='decade', y='total_movies', data=df_new, ax=axes[0,0]);\n",
    "\n",
    "# axes[0,1]\n",
    "axes[0,1].set_title(\"Number of movies by century and year\")\n",
    "sns.heatmap(df_pivot, annot=True, ax=axes[0,1]);\n",
    "\n",
    "\n",
    "# axes[1,0]\n",
    "axes[1,0].set_title(\"Budget and Box Office results\")\n",
    "axes[1,0].set_ylabel('Values in billions')\n",
    "axes[1,0].plot(df_new['decade'], budget_billions, lw=5)\n",
    "axes[1,0].plot(df_new['decade'], box_office_billions, lw=5)\n",
    "axes[1,0].legend(['Money spent', 'Box Office'])\n",
    "\n",
    "# axes[1,1]\n",
    "axes[1,1].set_title('Number of movies by genre')\n",
    "# Put it horizontally to be able to read the genres\n",
    "axes[1,1].plot(list_genre_counts, list_of_genres_unique_values, color='royalblue')"
   ]
  },
  {
   "cell_type": "markdown",
   "metadata": {},
   "source": [
    "Let us save and upload our work to Jovian before continuing."
   ]
  },
  {
   "cell_type": "code",
   "execution_count": 192,
   "metadata": {},
   "outputs": [],
   "source": [
    "import jovian"
   ]
  },
  {
   "cell_type": "code",
   "execution_count": 193,
   "metadata": {},
   "outputs": [
    {
     "data": {
      "application/javascript": [
       "window.require && require([\"base/js/namespace\"],function(Jupyter){Jupyter.notebook.save_checkpoint()})"
      ],
      "text/plain": [
       "<IPython.core.display.Javascript object>"
      ]
     },
     "metadata": {},
     "output_type": "display_data"
    },
    {
     "name": "stdout",
     "output_type": "stream",
     "text": [
      "[jovian] Updating notebook \"miguel-sales-baptista/zerotopandas-imdb-top-250-movies-dataset\" on https://jovian.com\u001b[0m\n",
      "[jovian] Committed successfully! https://jovian.com/miguel-sales-baptista/zerotopandas-imdb-top-250-movies-dataset\u001b[0m\n"
     ]
    },
    {
     "data": {
      "text/plain": [
       "'https://jovian.com/miguel-sales-baptista/zerotopandas-imdb-top-250-movies-dataset'"
      ]
     },
     "execution_count": 193,
     "metadata": {},
     "output_type": "execute_result"
    }
   ],
   "source": [
    "jovian.commit()"
   ]
  },
  {
   "cell_type": "markdown",
   "metadata": {},
   "source": [
    "## Inferences and Conclusion\n",
    "<ul>\n",
    "    <li><strong>There is a big percentage of movies which were directed and wrote by the same person</strong></li>\n",
    "    <li><strong>There are more movies with a duration between 2 and 3 hours than 1 and 2 hours</strong></li>\n",
    "    <li><strong>Drama is by far the most used genre</strong></li>\n",
    "    <li><strong>It confirms that the years after the movie Jaws (after 1975) were when the box office started growing</strong></li>\n",
    "    <li><strong>The Marvel movies are the most lucrative</strong></li>\n",
    "<ul>"
   ]
  },
  {
   "cell_type": "code",
   "execution_count": 194,
   "metadata": {},
   "outputs": [],
   "source": [
    "import jovian"
   ]
  },
  {
   "cell_type": "code",
   "execution_count": 195,
   "metadata": {},
   "outputs": [
    {
     "data": {
      "application/javascript": [
       "window.require && require([\"base/js/namespace\"],function(Jupyter){Jupyter.notebook.save_checkpoint()})"
      ],
      "text/plain": [
       "<IPython.core.display.Javascript object>"
      ]
     },
     "metadata": {},
     "output_type": "display_data"
    },
    {
     "name": "stdout",
     "output_type": "stream",
     "text": [
      "[jovian] Updating notebook \"miguel-sales-baptista/zerotopandas-imdb-top-250-movies-dataset\" on https://jovian.com\u001b[0m\n",
      "[jovian] Committed successfully! https://jovian.com/miguel-sales-baptista/zerotopandas-imdb-top-250-movies-dataset\u001b[0m\n"
     ]
    },
    {
     "data": {
      "text/plain": [
       "'https://jovian.com/miguel-sales-baptista/zerotopandas-imdb-top-250-movies-dataset'"
      ]
     },
     "execution_count": 195,
     "metadata": {},
     "output_type": "execute_result"
    }
   ],
   "source": [
    "jovian.commit()"
   ]
  },
  {
   "cell_type": "markdown",
   "metadata": {},
   "source": [
    "## References and Future Work\n",
    "\n",
    "**This project was very helpful in order to get experience in cleaning and analysing data, which is going to allow me to be more confident in future projects.**\n"
   ]
  },
  {
   "cell_type": "code",
   "execution_count": 196,
   "metadata": {},
   "outputs": [],
   "source": [
    "import jovian"
   ]
  },
  {
   "cell_type": "code",
   "execution_count": 1,
   "metadata": {
    "scrolled": true
   },
   "outputs": [
    {
     "data": {
      "application/javascript": [
       "window.require && require([\"base/js/namespace\"],function(Jupyter){Jupyter.notebook.save_checkpoint()})"
      ],
      "text/plain": [
       "<IPython.core.display.Javascript object>"
      ]
     },
     "metadata": {},
     "output_type": "display_data"
    },
    {
     "name": "stdout",
     "output_type": "stream",
     "text": [
      "[jovian] Updating notebook \"miguel-sales-baptista/zerotopandas-imdb-top-250-movies-dataset\" on https://jovian.com\u001b[0m\n",
      "[jovian] Committed successfully! https://jovian.com/miguel-sales-baptista/zerotopandas-imdb-top-250-movies-dataset\u001b[0m\n"
     ]
    },
    {
     "data": {
      "text/plain": [
       "'https://jovian.com/miguel-sales-baptista/zerotopandas-imdb-top-250-movies-dataset'"
      ]
     },
     "execution_count": 1,
     "metadata": {},
     "output_type": "execute_result"
    }
   ],
   "source": [
    "jovian.commit()"
   ]
  },
  {
   "cell_type": "code",
   "execution_count": null,
   "metadata": {},
   "outputs": [],
   "source": []
  }
 ],
 "metadata": {
  "language_info": {
   "codemirror_mode": {
    "name": "ipython",
    "version": 3
   },
   "file_extension": ".py",
   "mimetype": "text/x-python",
   "name": "python",
   "nbconvert_exporter": "python",
   "pygments_lexer": "ipython3",
   "version": "3.9.7"
  }
 },
 "nbformat": 4,
 "nbformat_minor": 4
}